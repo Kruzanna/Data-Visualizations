{
 "cells": [
  {
   "cell_type": "code",
   "execution_count": 1,
   "metadata": {},
   "outputs": [],
   "source": [
    "# import necessary libraries\n",
    "import pandas as pd\n",
    "import numpy as np\n",
    "import matplotlib as plt\n",
    "%matplotlib inline\n",
    "import seaborn as sns"
   ]
  },
  {
   "cell_type": "code",
   "execution_count": 2,
   "metadata": {},
   "outputs": [],
   "source": [
    "## Read the data from Housing.csv file\n",
    "housing_data=pd.read_csv(\".\\Sources\\housing_prices.csv\")"
   ]
  },
  {
   "cell_type": "code",
   "execution_count": 3,
   "metadata": {},
   "outputs": [
    {
     "data": {
      "text/plain": [
       "(1460, 81)"
      ]
     },
     "execution_count": 3,
     "metadata": {},
     "output_type": "execute_result"
    }
   ],
   "source": [
    "# Shape of the data\n",
    "housing_data.shape"
   ]
  },
  {
   "cell_type": "code",
   "execution_count": 4,
   "metadata": {},
   "outputs": [
    {
     "name": "stdout",
     "output_type": "stream",
     "text": [
      "<class 'pandas.core.frame.DataFrame'>\n",
      "RangeIndex: 1460 entries, 0 to 1459\n",
      "Data columns (total 81 columns):\n",
      "Id               1460 non-null int64\n",
      "MSSubClass       1460 non-null int64\n",
      "MSZoning         1460 non-null object\n",
      "LotFrontage      1201 non-null float64\n",
      "LotArea          1460 non-null int64\n",
      "Street           1460 non-null object\n",
      "Alley            91 non-null object\n",
      "LotShape         1460 non-null object\n",
      "LandContour      1460 non-null object\n",
      "Utilities        1460 non-null object\n",
      "LotConfig        1460 non-null object\n",
      "LandSlope        1460 non-null object\n",
      "Neighborhood     1460 non-null object\n",
      "Condition1       1460 non-null object\n",
      "Condition2       1460 non-null object\n",
      "BldgType         1460 non-null object\n",
      "HouseStyle       1460 non-null object\n",
      "OverallQual      1460 non-null int64\n",
      "OverallCond      1460 non-null int64\n",
      "YearBuilt        1460 non-null int64\n",
      "YearRemodAdd     1460 non-null int64\n",
      "RoofStyle        1460 non-null object\n",
      "RoofMatl         1460 non-null object\n",
      "Exterior1st      1460 non-null object\n",
      "Exterior2nd      1460 non-null object\n",
      "MasVnrType       1452 non-null object\n",
      "MasVnrArea       1452 non-null float64\n",
      "ExterQual        1460 non-null object\n",
      "ExterCond        1460 non-null object\n",
      "Foundation       1460 non-null object\n",
      "BsmtQual         1423 non-null object\n",
      "BsmtCond         1423 non-null object\n",
      "BsmtExposure     1422 non-null object\n",
      "BsmtFinType1     1423 non-null object\n",
      "BsmtFinSF1       1460 non-null int64\n",
      "BsmtFinType2     1422 non-null object\n",
      "BsmtFinSF2       1460 non-null int64\n",
      "BsmtUnfSF        1460 non-null int64\n",
      "TotalBsmtSF      1460 non-null int64\n",
      "Heating          1460 non-null object\n",
      "HeatingQC        1460 non-null object\n",
      "CentralAir       1460 non-null object\n",
      "Electrical       1459 non-null object\n",
      "1stFlrSF         1460 non-null int64\n",
      "2ndFlrSF         1460 non-null int64\n",
      "LowQualFinSF     1460 non-null int64\n",
      "GrLivArea        1460 non-null int64\n",
      "BsmtFullBath     1460 non-null int64\n",
      "BsmtHalfBath     1460 non-null int64\n",
      "FullBath         1460 non-null int64\n",
      "HalfBath         1460 non-null int64\n",
      "BedroomAbvGr     1460 non-null int64\n",
      "KitchenAbvGr     1460 non-null int64\n",
      "KitchenQual      1460 non-null object\n",
      "TotRmsAbvGrd     1460 non-null int64\n",
      "Functional       1460 non-null object\n",
      "Fireplaces       1460 non-null int64\n",
      "FireplaceQu      770 non-null object\n",
      "GarageType       1379 non-null object\n",
      "GarageYrBlt      1379 non-null float64\n",
      "GarageFinish     1379 non-null object\n",
      "GarageCars       1460 non-null int64\n",
      "GarageArea       1460 non-null int64\n",
      "GarageQual       1379 non-null object\n",
      "GarageCond       1379 non-null object\n",
      "PavedDrive       1460 non-null object\n",
      "WoodDeckSF       1460 non-null int64\n",
      "OpenPorchSF      1460 non-null int64\n",
      "EnclosedPorch    1460 non-null int64\n",
      "3SsnPorch        1460 non-null int64\n",
      "ScreenPorch      1460 non-null int64\n",
      "PoolArea         1460 non-null int64\n",
      "PoolQC           7 non-null object\n",
      "Fence            281 non-null object\n",
      "MiscFeature      54 non-null object\n",
      "MiscVal          1460 non-null int64\n",
      "MoSold           1460 non-null int64\n",
      "YrSold           1460 non-null int64\n",
      "SaleType         1460 non-null object\n",
      "SaleCondition    1460 non-null object\n",
      "SalePrice        1460 non-null int64\n",
      "dtypes: float64(3), int64(35), object(43)\n",
      "memory usage: 924.0+ KB\n"
     ]
    }
   ],
   "source": [
    "# Data type of the columns\n",
    "housing_data.info()"
   ]
  },
  {
   "cell_type": "code",
   "execution_count": 5,
   "metadata": {},
   "outputs": [
    {
     "data": {
      "text/html": [
       "<div>\n",
       "<style scoped>\n",
       "    .dataframe tbody tr th:only-of-type {\n",
       "        vertical-align: middle;\n",
       "    }\n",
       "\n",
       "    .dataframe tbody tr th {\n",
       "        vertical-align: top;\n",
       "    }\n",
       "\n",
       "    .dataframe thead th {\n",
       "        text-align: right;\n",
       "    }\n",
       "</style>\n",
       "<table border=\"1\" class=\"dataframe\">\n",
       "  <thead>\n",
       "    <tr style=\"text-align: right;\">\n",
       "      <th></th>\n",
       "      <th>Id</th>\n",
       "      <th>MSSubClass</th>\n",
       "      <th>MSZoning</th>\n",
       "      <th>LotFrontage</th>\n",
       "      <th>LotArea</th>\n",
       "      <th>Street</th>\n",
       "      <th>Alley</th>\n",
       "      <th>LotShape</th>\n",
       "      <th>LandContour</th>\n",
       "      <th>Utilities</th>\n",
       "      <th>...</th>\n",
       "      <th>PoolArea</th>\n",
       "      <th>PoolQC</th>\n",
       "      <th>Fence</th>\n",
       "      <th>MiscFeature</th>\n",
       "      <th>MiscVal</th>\n",
       "      <th>MoSold</th>\n",
       "      <th>YrSold</th>\n",
       "      <th>SaleType</th>\n",
       "      <th>SaleCondition</th>\n",
       "      <th>SalePrice</th>\n",
       "    </tr>\n",
       "  </thead>\n",
       "  <tbody>\n",
       "    <tr>\n",
       "      <td>0</td>\n",
       "      <td>1</td>\n",
       "      <td>60</td>\n",
       "      <td>RL</td>\n",
       "      <td>65.0</td>\n",
       "      <td>8450</td>\n",
       "      <td>Pave</td>\n",
       "      <td>NaN</td>\n",
       "      <td>Reg</td>\n",
       "      <td>Lvl</td>\n",
       "      <td>AllPub</td>\n",
       "      <td>...</td>\n",
       "      <td>0</td>\n",
       "      <td>NaN</td>\n",
       "      <td>NaN</td>\n",
       "      <td>NaN</td>\n",
       "      <td>0</td>\n",
       "      <td>2</td>\n",
       "      <td>2008</td>\n",
       "      <td>WD</td>\n",
       "      <td>Normal</td>\n",
       "      <td>208500</td>\n",
       "    </tr>\n",
       "    <tr>\n",
       "      <td>1</td>\n",
       "      <td>2</td>\n",
       "      <td>20</td>\n",
       "      <td>RL</td>\n",
       "      <td>80.0</td>\n",
       "      <td>9600</td>\n",
       "      <td>Pave</td>\n",
       "      <td>NaN</td>\n",
       "      <td>Reg</td>\n",
       "      <td>Lvl</td>\n",
       "      <td>AllPub</td>\n",
       "      <td>...</td>\n",
       "      <td>0</td>\n",
       "      <td>NaN</td>\n",
       "      <td>NaN</td>\n",
       "      <td>NaN</td>\n",
       "      <td>0</td>\n",
       "      <td>5</td>\n",
       "      <td>2007</td>\n",
       "      <td>WD</td>\n",
       "      <td>Normal</td>\n",
       "      <td>181500</td>\n",
       "    </tr>\n",
       "    <tr>\n",
       "      <td>2</td>\n",
       "      <td>3</td>\n",
       "      <td>60</td>\n",
       "      <td>RL</td>\n",
       "      <td>68.0</td>\n",
       "      <td>11250</td>\n",
       "      <td>Pave</td>\n",
       "      <td>NaN</td>\n",
       "      <td>IR1</td>\n",
       "      <td>Lvl</td>\n",
       "      <td>AllPub</td>\n",
       "      <td>...</td>\n",
       "      <td>0</td>\n",
       "      <td>NaN</td>\n",
       "      <td>NaN</td>\n",
       "      <td>NaN</td>\n",
       "      <td>0</td>\n",
       "      <td>9</td>\n",
       "      <td>2008</td>\n",
       "      <td>WD</td>\n",
       "      <td>Normal</td>\n",
       "      <td>223500</td>\n",
       "    </tr>\n",
       "    <tr>\n",
       "      <td>3</td>\n",
       "      <td>4</td>\n",
       "      <td>70</td>\n",
       "      <td>RL</td>\n",
       "      <td>60.0</td>\n",
       "      <td>9550</td>\n",
       "      <td>Pave</td>\n",
       "      <td>NaN</td>\n",
       "      <td>IR1</td>\n",
       "      <td>Lvl</td>\n",
       "      <td>AllPub</td>\n",
       "      <td>...</td>\n",
       "      <td>0</td>\n",
       "      <td>NaN</td>\n",
       "      <td>NaN</td>\n",
       "      <td>NaN</td>\n",
       "      <td>0</td>\n",
       "      <td>2</td>\n",
       "      <td>2006</td>\n",
       "      <td>WD</td>\n",
       "      <td>Abnorml</td>\n",
       "      <td>140000</td>\n",
       "    </tr>\n",
       "    <tr>\n",
       "      <td>4</td>\n",
       "      <td>5</td>\n",
       "      <td>60</td>\n",
       "      <td>RL</td>\n",
       "      <td>84.0</td>\n",
       "      <td>14260</td>\n",
       "      <td>Pave</td>\n",
       "      <td>NaN</td>\n",
       "      <td>IR1</td>\n",
       "      <td>Lvl</td>\n",
       "      <td>AllPub</td>\n",
       "      <td>...</td>\n",
       "      <td>0</td>\n",
       "      <td>NaN</td>\n",
       "      <td>NaN</td>\n",
       "      <td>NaN</td>\n",
       "      <td>0</td>\n",
       "      <td>12</td>\n",
       "      <td>2008</td>\n",
       "      <td>WD</td>\n",
       "      <td>Normal</td>\n",
       "      <td>250000</td>\n",
       "    </tr>\n",
       "  </tbody>\n",
       "</table>\n",
       "<p>5 rows × 81 columns</p>\n",
       "</div>"
      ],
      "text/plain": [
       "   Id  MSSubClass MSZoning  LotFrontage  LotArea Street Alley LotShape  \\\n",
       "0   1          60       RL         65.0     8450   Pave   NaN      Reg   \n",
       "1   2          20       RL         80.0     9600   Pave   NaN      Reg   \n",
       "2   3          60       RL         68.0    11250   Pave   NaN      IR1   \n",
       "3   4          70       RL         60.0     9550   Pave   NaN      IR1   \n",
       "4   5          60       RL         84.0    14260   Pave   NaN      IR1   \n",
       "\n",
       "  LandContour Utilities  ... PoolArea PoolQC Fence MiscFeature MiscVal MoSold  \\\n",
       "0         Lvl    AllPub  ...        0    NaN   NaN         NaN       0      2   \n",
       "1         Lvl    AllPub  ...        0    NaN   NaN         NaN       0      5   \n",
       "2         Lvl    AllPub  ...        0    NaN   NaN         NaN       0      9   \n",
       "3         Lvl    AllPub  ...        0    NaN   NaN         NaN       0      2   \n",
       "4         Lvl    AllPub  ...        0    NaN   NaN         NaN       0     12   \n",
       "\n",
       "  YrSold  SaleType  SaleCondition  SalePrice  \n",
       "0   2008        WD         Normal     208500  \n",
       "1   2007        WD         Normal     181500  \n",
       "2   2008        WD         Normal     223500  \n",
       "3   2006        WD        Abnorml     140000  \n",
       "4   2008        WD         Normal     250000  \n",
       "\n",
       "[5 rows x 81 columns]"
      ]
     },
     "execution_count": 5,
     "metadata": {},
     "output_type": "execute_result"
    }
   ],
   "source": [
    "#Print the first five records of data\n",
    "housing_data.head()"
   ]
  },
  {
   "cell_type": "code",
   "execution_count": 6,
   "metadata": {},
   "outputs": [
    {
     "data": {
      "text/html": [
       "<div>\n",
       "<style scoped>\n",
       "    .dataframe tbody tr th:only-of-type {\n",
       "        vertical-align: middle;\n",
       "    }\n",
       "\n",
       "    .dataframe tbody tr th {\n",
       "        vertical-align: top;\n",
       "    }\n",
       "\n",
       "    .dataframe thead th {\n",
       "        text-align: right;\n",
       "    }\n",
       "</style>\n",
       "<table border=\"1\" class=\"dataframe\">\n",
       "  <thead>\n",
       "    <tr style=\"text-align: right;\">\n",
       "      <th></th>\n",
       "      <th>Id</th>\n",
       "      <th>MSSubClass</th>\n",
       "      <th>MSZoning</th>\n",
       "      <th>LotFrontage</th>\n",
       "      <th>LotArea</th>\n",
       "      <th>Street</th>\n",
       "      <th>Alley</th>\n",
       "      <th>LotShape</th>\n",
       "      <th>LandContour</th>\n",
       "      <th>Utilities</th>\n",
       "      <th>...</th>\n",
       "      <th>PoolArea</th>\n",
       "      <th>PoolQC</th>\n",
       "      <th>Fence</th>\n",
       "      <th>MiscFeature</th>\n",
       "      <th>MiscVal</th>\n",
       "      <th>MoSold</th>\n",
       "      <th>YrSold</th>\n",
       "      <th>SaleType</th>\n",
       "      <th>SaleCondition</th>\n",
       "      <th>SalePrice</th>\n",
       "    </tr>\n",
       "  </thead>\n",
       "  <tbody>\n",
       "    <tr>\n",
       "      <td>1455</td>\n",
       "      <td>1456</td>\n",
       "      <td>60</td>\n",
       "      <td>RL</td>\n",
       "      <td>62.0</td>\n",
       "      <td>7917</td>\n",
       "      <td>Pave</td>\n",
       "      <td>NaN</td>\n",
       "      <td>Reg</td>\n",
       "      <td>Lvl</td>\n",
       "      <td>AllPub</td>\n",
       "      <td>...</td>\n",
       "      <td>0</td>\n",
       "      <td>NaN</td>\n",
       "      <td>NaN</td>\n",
       "      <td>NaN</td>\n",
       "      <td>0</td>\n",
       "      <td>8</td>\n",
       "      <td>2007</td>\n",
       "      <td>WD</td>\n",
       "      <td>Normal</td>\n",
       "      <td>175000</td>\n",
       "    </tr>\n",
       "    <tr>\n",
       "      <td>1456</td>\n",
       "      <td>1457</td>\n",
       "      <td>20</td>\n",
       "      <td>RL</td>\n",
       "      <td>85.0</td>\n",
       "      <td>13175</td>\n",
       "      <td>Pave</td>\n",
       "      <td>NaN</td>\n",
       "      <td>Reg</td>\n",
       "      <td>Lvl</td>\n",
       "      <td>AllPub</td>\n",
       "      <td>...</td>\n",
       "      <td>0</td>\n",
       "      <td>NaN</td>\n",
       "      <td>MnPrv</td>\n",
       "      <td>NaN</td>\n",
       "      <td>0</td>\n",
       "      <td>2</td>\n",
       "      <td>2010</td>\n",
       "      <td>WD</td>\n",
       "      <td>Normal</td>\n",
       "      <td>210000</td>\n",
       "    </tr>\n",
       "    <tr>\n",
       "      <td>1457</td>\n",
       "      <td>1458</td>\n",
       "      <td>70</td>\n",
       "      <td>RL</td>\n",
       "      <td>66.0</td>\n",
       "      <td>9042</td>\n",
       "      <td>Pave</td>\n",
       "      <td>NaN</td>\n",
       "      <td>Reg</td>\n",
       "      <td>Lvl</td>\n",
       "      <td>AllPub</td>\n",
       "      <td>...</td>\n",
       "      <td>0</td>\n",
       "      <td>NaN</td>\n",
       "      <td>GdPrv</td>\n",
       "      <td>Shed</td>\n",
       "      <td>2500</td>\n",
       "      <td>5</td>\n",
       "      <td>2010</td>\n",
       "      <td>WD</td>\n",
       "      <td>Normal</td>\n",
       "      <td>266500</td>\n",
       "    </tr>\n",
       "    <tr>\n",
       "      <td>1458</td>\n",
       "      <td>1459</td>\n",
       "      <td>20</td>\n",
       "      <td>RL</td>\n",
       "      <td>68.0</td>\n",
       "      <td>9717</td>\n",
       "      <td>Pave</td>\n",
       "      <td>NaN</td>\n",
       "      <td>Reg</td>\n",
       "      <td>Lvl</td>\n",
       "      <td>AllPub</td>\n",
       "      <td>...</td>\n",
       "      <td>0</td>\n",
       "      <td>NaN</td>\n",
       "      <td>NaN</td>\n",
       "      <td>NaN</td>\n",
       "      <td>0</td>\n",
       "      <td>4</td>\n",
       "      <td>2010</td>\n",
       "      <td>WD</td>\n",
       "      <td>Normal</td>\n",
       "      <td>142125</td>\n",
       "    </tr>\n",
       "    <tr>\n",
       "      <td>1459</td>\n",
       "      <td>1460</td>\n",
       "      <td>20</td>\n",
       "      <td>RL</td>\n",
       "      <td>75.0</td>\n",
       "      <td>9937</td>\n",
       "      <td>Pave</td>\n",
       "      <td>NaN</td>\n",
       "      <td>Reg</td>\n",
       "      <td>Lvl</td>\n",
       "      <td>AllPub</td>\n",
       "      <td>...</td>\n",
       "      <td>0</td>\n",
       "      <td>NaN</td>\n",
       "      <td>NaN</td>\n",
       "      <td>NaN</td>\n",
       "      <td>0</td>\n",
       "      <td>6</td>\n",
       "      <td>2008</td>\n",
       "      <td>WD</td>\n",
       "      <td>Normal</td>\n",
       "      <td>147500</td>\n",
       "    </tr>\n",
       "  </tbody>\n",
       "</table>\n",
       "<p>5 rows × 81 columns</p>\n",
       "</div>"
      ],
      "text/plain": [
       "        Id  MSSubClass MSZoning  LotFrontage  LotArea Street Alley LotShape  \\\n",
       "1455  1456          60       RL         62.0     7917   Pave   NaN      Reg   \n",
       "1456  1457          20       RL         85.0    13175   Pave   NaN      Reg   \n",
       "1457  1458          70       RL         66.0     9042   Pave   NaN      Reg   \n",
       "1458  1459          20       RL         68.0     9717   Pave   NaN      Reg   \n",
       "1459  1460          20       RL         75.0     9937   Pave   NaN      Reg   \n",
       "\n",
       "     LandContour Utilities  ... PoolArea PoolQC  Fence MiscFeature MiscVal  \\\n",
       "1455         Lvl    AllPub  ...        0    NaN    NaN         NaN       0   \n",
       "1456         Lvl    AllPub  ...        0    NaN  MnPrv         NaN       0   \n",
       "1457         Lvl    AllPub  ...        0    NaN  GdPrv        Shed    2500   \n",
       "1458         Lvl    AllPub  ...        0    NaN    NaN         NaN       0   \n",
       "1459         Lvl    AllPub  ...        0    NaN    NaN         NaN       0   \n",
       "\n",
       "     MoSold YrSold  SaleType  SaleCondition  SalePrice  \n",
       "1455      8   2007        WD         Normal     175000  \n",
       "1456      2   2010        WD         Normal     210000  \n",
       "1457      5   2010        WD         Normal     266500  \n",
       "1458      4   2010        WD         Normal     142125  \n",
       "1459      6   2008        WD         Normal     147500  \n",
       "\n",
       "[5 rows x 81 columns]"
      ]
     },
     "execution_count": 6,
     "metadata": {},
     "output_type": "execute_result"
    }
   ],
   "source": [
    "#Print the last five records of data\n",
    "housing_data.tail()"
   ]
  },
  {
   "cell_type": "code",
   "execution_count": 7,
   "metadata": {},
   "outputs": [
    {
     "data": {
      "text/plain": [
       "Index(['Id', 'MSSubClass', 'MSZoning', 'LotFrontage', 'LotArea', 'Street',\n",
       "       'Alley', 'LotShape', 'LandContour', 'Utilities', 'LotConfig',\n",
       "       'LandSlope', 'Neighborhood', 'Condition1', 'Condition2', 'BldgType',\n",
       "       'HouseStyle', 'OverallQual', 'OverallCond', 'YearBuilt', 'YearRemodAdd',\n",
       "       'RoofStyle', 'RoofMatl', 'Exterior1st', 'Exterior2nd', 'MasVnrType',\n",
       "       'MasVnrArea', 'ExterQual', 'ExterCond', 'Foundation', 'BsmtQual',\n",
       "       'BsmtCond', 'BsmtExposure', 'BsmtFinType1', 'BsmtFinSF1',\n",
       "       'BsmtFinType2', 'BsmtFinSF2', 'BsmtUnfSF', 'TotalBsmtSF', 'Heating',\n",
       "       'HeatingQC', 'CentralAir', 'Electrical', '1stFlrSF', '2ndFlrSF',\n",
       "       'LowQualFinSF', 'GrLivArea', 'BsmtFullBath', 'BsmtHalfBath', 'FullBath',\n",
       "       'HalfBath', 'BedroomAbvGr', 'KitchenAbvGr', 'KitchenQual',\n",
       "       'TotRmsAbvGrd', 'Functional', 'Fireplaces', 'FireplaceQu', 'GarageType',\n",
       "       'GarageYrBlt', 'GarageFinish', 'GarageCars', 'GarageArea', 'GarageQual',\n",
       "       'GarageCond', 'PavedDrive', 'WoodDeckSF', 'OpenPorchSF',\n",
       "       'EnclosedPorch', '3SsnPorch', 'ScreenPorch', 'PoolArea', 'PoolQC',\n",
       "       'Fence', 'MiscFeature', 'MiscVal', 'MoSold', 'YrSold', 'SaleType',\n",
       "       'SaleCondition', 'SalePrice'],\n",
       "      dtype='object')"
      ]
     },
     "execution_count": 7,
     "metadata": {},
     "output_type": "execute_result"
    }
   ],
   "source": [
    "# Print the column names\n",
    "housing_data.columns"
   ]
  },
  {
   "cell_type": "markdown",
   "metadata": {},
   "source": [
    "### Exploratory Data Analysis"
   ]
  },
  {
   "cell_type": "markdown",
   "metadata": {},
   "source": [
    "### Univariate Analysis"
   ]
  },
  {
   "cell_type": "code",
   "execution_count": 8,
   "metadata": {},
   "outputs": [
    {
     "data": {
      "text/plain": [
       "<matplotlib.axes._subplots.AxesSubplot at 0x200925b4e48>"
      ]
     },
     "execution_count": 8,
     "metadata": {},
     "output_type": "execute_result"
    },
    {
     "data": {
      "image/png": "[encoded data removed]",
      "text/plain": [
       "<Figure size 432x288 with 1 Axes>"
      ]
     },
     "metadata": {
      "needs_background": "light"
     },
     "output_type": "display_data"
    }
   ],
   "source": [
    "# Analyze the spread of the \"LotArea\" column\n",
    "### y axis is the count for each bin\n",
    "### x is the actual bin of lot area\n",
    "sns.distplot(housing_data['LotArea'])"
   ]
  },
  {
   "cell_type": "code",
   "execution_count": 9,
   "metadata": {},
   "outputs": [
    {
     "data": {
      "text/plain": [
       "<matplotlib.axes._subplots.AxesSubplot at 0x20094740d88>"
      ]
     },
     "execution_count": 9,
     "metadata": {},
     "output_type": "execute_result"
    },
    {
     "data": {
      "image/png": "[encoded data removed]",
      "text/plain": [
       "<Figure size 432x288 with 1 Axes>"
      ]
     },
     "metadata": {
      "needs_background": "light"
     },
     "output_type": "display_data"
    }
   ],
   "source": [
    "sns.distplot(housing_data[\"LotArea\"], kde=False)"
   ]
  },
  {
   "cell_type": "code",
   "execution_count": 10,
   "metadata": {},
   "outputs": [
    {
     "data": {
      "text/plain": [
       "<matplotlib.axes._subplots.AxesSubplot at 0x20094840a08>"
      ]
     },
     "execution_count": 10,
     "metadata": {},
     "output_type": "execute_result"
    },
    {
     "data": {
      "image/png": "[encoded data removed]",
      "text/plain": [
       "<Figure size 432x288 with 1 Axes>"
      ]
     },
     "metadata": {
      "needs_background": "light"
     },
     "output_type": "display_data"
    }
   ],
   "source": [
    "# Analyze the spread of the \"SalePrice\" column\n",
    "sns.distplot(housing_data['SalePrice'],hist=True,kde=False)"
   ]
  },
  {
   "cell_type": "code",
   "execution_count": 11,
   "metadata": {},
   "outputs": [
    {
     "data": {
      "text/plain": [
       "<matplotlib.axes._subplots.AxesSubplot at 0x2009496fc48>"
      ]
     },
     "execution_count": 11,
     "metadata": {},
     "output_type": "execute_result"
    },
    {
     "data": {
      "image/png": "[encoded data removed]",
      "text/plain": [
       "<Figure size 432x288 with 1 Axes>"
      ]
     },
     "metadata": {
      "needs_background": "light"
     },
     "output_type": "display_data"
    }
   ],
   "source": [
    "### KDE IS KERNER DENSITY ESTIMATOR\n",
    "### GIVES THE DISTRIBUTION\n",
    "### Y axis is the proportion of data and not count inside the kde line.\n",
    "sns.distplot(housing_data['SalePrice'],kde=True)"
   ]
  },
  {
   "cell_type": "code",
   "execution_count": 12,
   "metadata": {},
   "outputs": [
    {
     "data": {
      "text/plain": [
       "<matplotlib.axes._subplots.AxesSubplot at 0x20094a81048>"
      ]
     },
     "execution_count": 12,
     "metadata": {},
     "output_type": "execute_result"
    },
    {
     "data": {
      "image/png": "[encoded data removed]",
      "text/plain": [
       "<Figure size 432x288 with 1 Axes>"
      ]
     },
     "metadata": {
      "needs_background": "light"
     },
     "output_type": "display_data"
    }
   ],
   "source": [
    "sns.distplot(housing_data[\"SalePrice\"], rug=True,hist=False)"
   ]
  },
  {
   "cell_type": "code",
   "execution_count": 13,
   "metadata": {},
   "outputs": [
    {
     "data": {
      "text/plain": [
       "0.50     9478.50\n",
       "0.95    17401.15\n",
       "0.99    37567.64\n",
       "Name: LotArea, dtype: float64"
      ]
     },
     "execution_count": 13,
     "metadata": {},
     "output_type": "execute_result"
    }
   ],
   "source": [
    "# Are outliers skewing the relationship of LotArea.. \n",
    "housing_data['LotArea'].quantile([0.5,0.95,0.99])"
   ]
  },
  {
   "cell_type": "code",
   "execution_count": 14,
   "metadata": {},
   "outputs": [
    {
     "data": {
      "text/plain": [
       "12.207687851233496"
      ]
     },
     "execution_count": 14,
     "metadata": {},
     "output_type": "execute_result"
    }
   ],
   "source": [
    "housing_data['LotArea'].skew()"
   ]
  },
  {
   "cell_type": "code",
   "execution_count": 15,
   "metadata": {},
   "outputs": [],
   "source": [
    "##Redraw the relationshp after removing very large values/outlier\n",
    "housing_data_sub = housing_data.loc[housing_data[\"LotArea\"] < housing_data[\"LotArea\"].quantile(0.95)]"
   ]
  },
  {
   "cell_type": "code",
   "execution_count": 16,
   "metadata": {},
   "outputs": [
    {
     "name": "stdout",
     "output_type": "stream",
     "text": [
      "1300\n",
      "215245\n",
      "9981.264932379147\n"
     ]
    }
   ],
   "source": [
    "## Find the min , max and std for LotArea\n",
    "print(housing_data['LotArea'].min())\n",
    "print(housing_data['LotArea'].max())\n",
    "print(housing_data['LotArea'].std())"
   ]
  },
  {
   "cell_type": "code",
   "execution_count": 17,
   "metadata": {},
   "outputs": [
    {
     "data": {
      "text/plain": [
       "VinylSd    515\n",
       "HdBoard    222\n",
       "MetalSd    220\n",
       "Wd Sdng    206\n",
       "Plywood    108\n",
       "CemntBd     61\n",
       "BrkFace     50\n",
       "WdShing     26\n",
       "Stucco      25\n",
       "AsbShng     20\n",
       "Stone        2\n",
       "BrkComm      2\n",
       "ImStucc      1\n",
       "CBlock       1\n",
       "AsphShn      1\n",
       "Name: Exterior1st, dtype: int64"
      ]
     },
     "execution_count": 17,
     "metadata": {},
     "output_type": "execute_result"
    }
   ],
   "source": [
    "### count of values for a Exterior column\n",
    "housing_data.Exterior1st.value_counts()"
   ]
  },
  {
   "cell_type": "code",
   "execution_count": 18,
   "metadata": {},
   "outputs": [
    {
     "data": {
      "text/plain": [
       "[Text(0, 0, 'VinylSd'),\n",
       " Text(0, 0, 'MetalSd'),\n",
       " Text(0, 0, 'Wd Sdng'),\n",
       " Text(0, 0, 'HdBoard'),\n",
       " Text(0, 0, 'BrkFace'),\n",
       " Text(0, 0, 'WdShing'),\n",
       " Text(0, 0, 'CemntBd'),\n",
       " Text(0, 0, 'Plywood'),\n",
       " Text(0, 0, 'AsbShng'),\n",
       " Text(0, 0, 'Stucco'),\n",
       " Text(0, 0, 'BrkComm'),\n",
       " Text(0, 0, 'AsphShn'),\n",
       " Text(0, 0, 'Stone'),\n",
       " Text(0, 0, 'ImStucc'),\n",
       " Text(0, 0, 'CBlock')]"
      ]
     },
     "execution_count": 18,
     "metadata": {},
     "output_type": "execute_result"
    },
    {
     "data": {
      "image/png": "[encoded data removed]",
      "text/plain": [
       "<Figure size 432x288 with 1 Axes>"
      ]
     },
     "metadata": {
      "needs_background": "light"
     },
     "output_type": "display_data"
    }
   ],
   "source": [
    "# What are the different types of housing exterios\n",
    "plot = sns.countplot(housing_data.Exterior1st)\n",
    "plot.set_xticklabels(plot.get_xticklabels(), rotation=40)"
   ]
  },
  {
   "cell_type": "code",
   "execution_count": 19,
   "metadata": {},
   "outputs": [
    {
     "data": {
      "text/plain": [
       "[Text(0, 0, 'AsphShn'),\n",
       " Text(0, 0, 'CBlock'),\n",
       " Text(0, 0, 'ImStucc'),\n",
       " Text(0, 0, 'BrkComm'),\n",
       " Text(0, 0, 'Stone'),\n",
       " Text(0, 0, 'AsbShng'),\n",
       " Text(0, 0, 'Stucco'),\n",
       " Text(0, 0, 'WdShing'),\n",
       " Text(0, 0, 'BrkFace'),\n",
       " Text(0, 0, 'CemntBd'),\n",
       " Text(0, 0, 'Plywood'),\n",
       " Text(0, 0, 'Wd Sdng'),\n",
       " Text(0, 0, 'MetalSd'),\n",
       " Text(0, 0, 'HdBoard'),\n",
       " Text(0, 0, 'VinylSd')]"
      ]
     },
     "execution_count": 19,
     "metadata": {},
     "output_type": "execute_result"
    },
    {
     "data": {
      "image/png": "[encoded data removed]",
      "text/plain": [
       "<Figure size 432x288 with 1 Axes>"
      ]
     },
     "metadata": {
      "needs_background": "light"
     },
     "output_type": "display_data"
    }
   ],
   "source": [
    "### ordering the plot using value count which will give count of\n",
    "### from the sorted data we use .index to sort\n",
    "plot = sns.countplot(housing_data.Exterior1st,order=housing_data.Exterior1st.value_counts(ascending=True).index)\n",
    "plot.set_xticklabels(plot.get_xticklabels(), rotation=40)"
   ]
  },
  {
   "cell_type": "code",
   "execution_count": 20,
   "metadata": {},
   "outputs": [
    {
     "data": {
      "text/plain": [
       "[Text(0, 0, ''),\n",
       " Text(0, 0, ''),\n",
       " Text(0, 0, ''),\n",
       " Text(0, 0, ''),\n",
       " Text(0, 0, ''),\n",
       " Text(0, 0, ''),\n",
       " Text(0, 0, '')]"
      ]
     },
     "execution_count": 20,
     "metadata": {},
     "output_type": "execute_result"
    },
    {
     "data": {
      "image/png": "[encoded data removed]",
      "text/plain": [
       "<Figure size 432x288 with 1 Axes>"
      ]
     },
     "metadata": {
      "needs_background": "light"
     },
     "output_type": "display_data"
    }
   ],
   "source": [
    "### change the axis\n",
    "### from the sorted data we use .index to sort\n",
    "plot = sns.countplot(y=housing_data.Exterior1st,order=housing_data.Exterior1st.value_counts(ascending=True).index)\n",
    "plot.set_xticklabels(plot.get_xticklabels(), rotation=40)"
   ]
  },
  {
   "cell_type": "code",
   "execution_count": 21,
   "metadata": {},
   "outputs": [
    {
     "data": {
      "text/plain": [
       "[Text(0, 0, '515'),\n",
       " Text(0, 0, '222'),\n",
       " Text(0, 0, '220'),\n",
       " Text(0, 0, '206'),\n",
       " Text(0, 0, '108'),\n",
       " Text(0, 0, '61'),\n",
       " Text(0, 0, '50'),\n",
       " Text(0, 0, '26'),\n",
       " Text(0, 0, '25'),\n",
       " Text(0, 0, '20'),\n",
       " Text(0, 0, '2'),\n",
       " Text(0, 0, '2'),\n",
       " Text(0, 0, '1'),\n",
       " Text(0, 0, '1'),\n",
       " Text(0, 0, '1')]"
      ]
     },
     "execution_count": 21,
     "metadata": {},
     "output_type": "execute_result"
    },
    {
     "data": {
      "image/png": "[encoded data removed]",
      "text/plain": [
       "<Figure size 432x288 with 1 Axes>"
      ]
     },
     "metadata": {
      "needs_background": "light"
     },
     "output_type": "display_data"
    }
   ],
   "source": [
    "### ordering the plot..ordering without indexing the value counts will not result in a plot\n",
    "plot=sns.countplot(housing_data.Exterior1st,order=housing_data.Exterior1st.value_counts())\n",
    "plot.set_xticklabels(plot.get_xticklabels(),rotation=40)"
   ]
  },
  {
   "cell_type": "code",
   "execution_count": 22,
   "metadata": {},
   "outputs": [
    {
     "data": {
      "text/plain": [
       "<matplotlib.axes._subplots.AxesSubplot at 0x20094e42448>"
      ]
     },
     "execution_count": 22,
     "metadata": {},
     "output_type": "execute_result"
    },
    {
     "data": {
      "image/png": "[encoded data removed]",
      "text/plain": [
       "<Figure size 432x288 with 1 Axes>"
      ]
     },
     "metadata": {
      "needs_background": "light"
     },
     "output_type": "display_data"
    }
   ],
   "source": [
    "# Understand saleprice through boxplot\n",
    "sns.boxplot(data=housing_data[\"SalePrice\"],palette='rainbow',orient='h')"
   ]
  },
  {
   "cell_type": "markdown",
   "metadata": {},
   "source": [
    "## BiVariate Analysis\n",
    "### Does the price of the house depend on the lot area? \n"
   ]
  },
  {
   "cell_type": "code",
   "execution_count": 23,
   "metadata": {},
   "outputs": [
    {
     "data": {
      "text/plain": [
       "<matplotlib.axes._subplots.AxesSubplot at 0x20094ea7408>"
      ]
     },
     "execution_count": 23,
     "metadata": {},
     "output_type": "execute_result"
    },
    {
     "data": {
      "image/png": "[encoded data removed]",
      "text/plain": [
       "<Figure size 432x288 with 1 Axes>"
      ]
     },
     "metadata": {
      "needs_background": "light"
     },
     "output_type": "display_data"
    }
   ],
   "source": [
    "sns.regplot(x=housing_data.LotArea,y=housing_data.SalePrice)"
   ]
  },
  {
   "cell_type": "code",
   "execution_count": 24,
   "metadata": {},
   "outputs": [
    {
     "data": {
      "text/plain": [
       "<matplotlib.axes._subplots.AxesSubplot at 0x20094f2ca48>"
      ]
     },
     "execution_count": 24,
     "metadata": {},
     "output_type": "execute_result"
    },
    {
     "data": {
      "image/png": "[encoded data removed]",
      "text/plain": [
       "<Figure size 432x288 with 1 Axes>"
      ]
     },
     "metadata": {
      "needs_background": "light"
     },
     "output_type": "display_data"
    }
   ],
   "source": [
    "## Relation between SalePrice and SaleCondition\n",
    "sns.barplot(housing_data.SaleCondition,housing_data.SalePrice)"
   ]
  },
  {
   "cell_type": "code",
   "execution_count": 25,
   "metadata": {},
   "outputs": [
    {
     "data": {
      "text/plain": [
       "<matplotlib.axes._subplots.AxesSubplot at 0x20094faa388>"
      ]
     },
     "execution_count": 25,
     "metadata": {},
     "output_type": "execute_result"
    },
    {
     "data": {
      "image/png": "[encoded data removed]",
      "text/plain": [
       "<Figure size 432x288 with 1 Axes>"
      ]
     },
     "metadata": {
      "needs_background": "light"
     },
     "output_type": "display_data"
    }
   ],
   "source": [
    "## Relation between SalePrice and LotArea\n",
    "sns.regplot(housing_data_sub.LotArea,housing_data_sub.SalePrice)"
   ]
  },
  {
   "cell_type": "code",
   "execution_count": 26,
   "metadata": {},
   "outputs": [
    {
     "data": {
      "text/plain": [
       "[Text(0, 0, 'VinylSd'),\n",
       " Text(0, 0, 'MetalSd'),\n",
       " Text(0, 0, 'Wd Sdng'),\n",
       " Text(0, 0, 'HdBoard'),\n",
       " Text(0, 0, 'BrkFace'),\n",
       " Text(0, 0, 'WdShing'),\n",
       " Text(0, 0, 'CemntBd'),\n",
       " Text(0, 0, 'Plywood'),\n",
       " Text(0, 0, 'AsbShng'),\n",
       " Text(0, 0, 'Stucco'),\n",
       " Text(0, 0, 'BrkComm'),\n",
       " Text(0, 0, 'AsphShn'),\n",
       " Text(0, 0, 'Stone'),\n",
       " Text(0, 0, 'ImStucc'),\n",
       " Text(0, 0, 'CBlock')]"
      ]
     },
     "execution_count": 26,
     "metadata": {},
     "output_type": "execute_result"
    },
    {
     "data": {
      "image/png": "[encoded data removed]",
      "text/plain": [
       "<Figure size 432x288 with 1 Axes>"
      ]
     },
     "metadata": {
      "needs_background": "light"
     },
     "output_type": "display_data"
    }
   ],
   "source": [
    "## Relation between SalePrice and Exterior1st\n",
    "plot = sns.boxplot(housing_data_sub.Exterior1st,housing_data_sub.SalePrice)\n",
    "plot.set_xticklabels(plot.get_xticklabels(),rotation=40)"
   ]
  },
  {
   "cell_type": "code",
   "execution_count": 27,
   "metadata": {},
   "outputs": [
    {
     "data": {
      "text/plain": [
       "Exterior1st\n",
       "AsbShng    107385.550000\n",
       "AsphShn    100000.000000\n",
       "BrkComm     71000.000000\n",
       "BrkFace    194573.000000\n",
       "CBlock     105000.000000\n",
       "CemntBd    231690.655738\n",
       "HdBoard    163077.450450\n",
       "ImStucc    262000.000000\n",
       "MetalSd    149422.177273\n",
       "Plywood    175942.379630\n",
       "Stone      258500.000000\n",
       "Stucco     162990.000000\n",
       "VinylSd    213732.900971\n",
       "Wd Sdng    149841.645631\n",
       "WdShing    150655.076923\n",
       "Name: SalePrice, dtype: float64"
      ]
     },
     "execution_count": 27,
     "metadata": {},
     "output_type": "execute_result"
    }
   ],
   "source": [
    "### mean Sale price per exterior1st\n",
    "housing_data.groupby(housing_data.Exterior1st).SalePrice.agg(\"mean\")"
   ]
  },
  {
   "cell_type": "code",
   "execution_count": 28,
   "metadata": {},
   "outputs": [
    {
     "data": {
      "text/html": [
       "<div>\n",
       "<style scoped>\n",
       "    .dataframe tbody tr th:only-of-type {\n",
       "        vertical-align: middle;\n",
       "    }\n",
       "\n",
       "    .dataframe tbody tr th {\n",
       "        vertical-align: top;\n",
       "    }\n",
       "\n",
       "    .dataframe thead th {\n",
       "        text-align: right;\n",
       "    }\n",
       "</style>\n",
       "<table border=\"1\" class=\"dataframe\">\n",
       "  <thead>\n",
       "    <tr style=\"text-align: right;\">\n",
       "      <th></th>\n",
       "      <th>median</th>\n",
       "      <th>max</th>\n",
       "      <th>count</th>\n",
       "    </tr>\n",
       "    <tr>\n",
       "      <th>Exterior1st</th>\n",
       "      <th></th>\n",
       "      <th></th>\n",
       "      <th></th>\n",
       "    </tr>\n",
       "  </thead>\n",
       "  <tbody>\n",
       "    <tr>\n",
       "      <td>AsbShng</td>\n",
       "      <td>108000.0</td>\n",
       "      <td>165500</td>\n",
       "      <td>20</td>\n",
       "    </tr>\n",
       "    <tr>\n",
       "      <td>AsphShn</td>\n",
       "      <td>100000.0</td>\n",
       "      <td>100000</td>\n",
       "      <td>1</td>\n",
       "    </tr>\n",
       "    <tr>\n",
       "      <td>BrkComm</td>\n",
       "      <td>71000.0</td>\n",
       "      <td>82000</td>\n",
       "      <td>2</td>\n",
       "    </tr>\n",
       "    <tr>\n",
       "      <td>BrkFace</td>\n",
       "      <td>165750.0</td>\n",
       "      <td>430000</td>\n",
       "      <td>50</td>\n",
       "    </tr>\n",
       "    <tr>\n",
       "      <td>CBlock</td>\n",
       "      <td>105000.0</td>\n",
       "      <td>105000</td>\n",
       "      <td>1</td>\n",
       "    </tr>\n",
       "    <tr>\n",
       "      <td>CemntBd</td>\n",
       "      <td>236500.0</td>\n",
       "      <td>556581</td>\n",
       "      <td>61</td>\n",
       "    </tr>\n",
       "    <tr>\n",
       "      <td>HdBoard</td>\n",
       "      <td>149900.0</td>\n",
       "      <td>755000</td>\n",
       "      <td>222</td>\n",
       "    </tr>\n",
       "    <tr>\n",
       "      <td>ImStucc</td>\n",
       "      <td>262000.0</td>\n",
       "      <td>262000</td>\n",
       "      <td>1</td>\n",
       "    </tr>\n",
       "    <tr>\n",
       "      <td>MetalSd</td>\n",
       "      <td>139000.0</td>\n",
       "      <td>392000</td>\n",
       "      <td>220</td>\n",
       "    </tr>\n",
       "    <tr>\n",
       "      <td>Plywood</td>\n",
       "      <td>167450.0</td>\n",
       "      <td>345000</td>\n",
       "      <td>108</td>\n",
       "    </tr>\n",
       "    <tr>\n",
       "      <td>Stone</td>\n",
       "      <td>258500.0</td>\n",
       "      <td>287000</td>\n",
       "      <td>2</td>\n",
       "    </tr>\n",
       "    <tr>\n",
       "      <td>Stucco</td>\n",
       "      <td>144000.0</td>\n",
       "      <td>381000</td>\n",
       "      <td>25</td>\n",
       "    </tr>\n",
       "    <tr>\n",
       "      <td>VinylSd</td>\n",
       "      <td>200000.0</td>\n",
       "      <td>611657</td>\n",
       "      <td>515</td>\n",
       "    </tr>\n",
       "    <tr>\n",
       "      <td>Wd Sdng</td>\n",
       "      <td>138943.5</td>\n",
       "      <td>745000</td>\n",
       "      <td>206</td>\n",
       "    </tr>\n",
       "    <tr>\n",
       "      <td>WdShing</td>\n",
       "      <td>128700.0</td>\n",
       "      <td>385000</td>\n",
       "      <td>26</td>\n",
       "    </tr>\n",
       "  </tbody>\n",
       "</table>\n",
       "</div>"
      ],
      "text/plain": [
       "               median     max  count\n",
       "Exterior1st                         \n",
       "AsbShng      108000.0  165500     20\n",
       "AsphShn      100000.0  100000      1\n",
       "BrkComm       71000.0   82000      2\n",
       "BrkFace      165750.0  430000     50\n",
       "CBlock       105000.0  105000      1\n",
       "CemntBd      236500.0  556581     61\n",
       "HdBoard      149900.0  755000    222\n",
       "ImStucc      262000.0  262000      1\n",
       "MetalSd      139000.0  392000    220\n",
       "Plywood      167450.0  345000    108\n",
       "Stone        258500.0  287000      2\n",
       "Stucco       144000.0  381000     25\n",
       "VinylSd      200000.0  611657    515\n",
       "Wd Sdng      138943.5  745000    206\n",
       "WdShing      128700.0  385000     26"
      ]
     },
     "execution_count": 28,
     "metadata": {},
     "output_type": "execute_result"
    }
   ],
   "source": [
    "## median, max,count Sale price per exterior1st\n",
    "housing_data.groupby(housing_data.Exterior1st).SalePrice.agg(['median','max','count'])"
   ]
  },
  {
   "cell_type": "code",
   "execution_count": 29,
   "metadata": {},
   "outputs": [
    {
     "name": "stdout",
     "output_type": "stream",
     "text": [
      "0.26384335387140556\n",
      "0.43020999128977677\n"
     ]
    }
   ],
   "source": [
    "### correlation between LotArea and SalePrice\n",
    "print(housing_data[\"LotArea\"].corr(housing_data[\"SalePrice\"])) ## with outliers\n",
    "print(housing_data_sub[\"LotArea\"].corr(housing_data_sub[\"SalePrice\"])) ### without outliers shows improved correlation"
   ]
  },
  {
   "cell_type": "code",
   "execution_count": 30,
   "metadata": {},
   "outputs": [
    {
     "data": {
      "text/html": [
       "<div>\n",
       "<style scoped>\n",
       "    .dataframe tbody tr th:only-of-type {\n",
       "        vertical-align: middle;\n",
       "    }\n",
       "\n",
       "    .dataframe tbody tr th {\n",
       "        vertical-align: top;\n",
       "    }\n",
       "\n",
       "    .dataframe thead th {\n",
       "        text-align: right;\n",
       "    }\n",
       "</style>\n",
       "<table border=\"1\" class=\"dataframe\">\n",
       "  <thead>\n",
       "    <tr style=\"text-align: right;\">\n",
       "      <th></th>\n",
       "      <th>Id</th>\n",
       "      <th>MSSubClass</th>\n",
       "      <th>LotFrontage</th>\n",
       "      <th>LotArea</th>\n",
       "      <th>OverallQual</th>\n",
       "      <th>OverallCond</th>\n",
       "      <th>YearBuilt</th>\n",
       "      <th>YearRemodAdd</th>\n",
       "      <th>MasVnrArea</th>\n",
       "      <th>BsmtFinSF1</th>\n",
       "      <th>...</th>\n",
       "      <th>WoodDeckSF</th>\n",
       "      <th>OpenPorchSF</th>\n",
       "      <th>EnclosedPorch</th>\n",
       "      <th>3SsnPorch</th>\n",
       "      <th>ScreenPorch</th>\n",
       "      <th>PoolArea</th>\n",
       "      <th>MiscVal</th>\n",
       "      <th>MoSold</th>\n",
       "      <th>YrSold</th>\n",
       "      <th>SalePrice</th>\n",
       "    </tr>\n",
       "  </thead>\n",
       "  <tbody>\n",
       "    <tr>\n",
       "      <td>Id</td>\n",
       "      <td>1.000000</td>\n",
       "      <td>0.012256</td>\n",
       "      <td>-0.023118</td>\n",
       "      <td>-0.015056</td>\n",
       "      <td>-0.018083</td>\n",
       "      <td>0.009765</td>\n",
       "      <td>-0.017100</td>\n",
       "      <td>-0.025653</td>\n",
       "      <td>-0.053472</td>\n",
       "      <td>0.002664</td>\n",
       "      <td>...</td>\n",
       "      <td>-0.029206</td>\n",
       "      <td>-0.007554</td>\n",
       "      <td>0.010026</td>\n",
       "      <td>-0.051052</td>\n",
       "      <td>0.002379</td>\n",
       "      <td>0.049858</td>\n",
       "      <td>-0.021183</td>\n",
       "      <td>0.022811</td>\n",
       "      <td>-0.002155</td>\n",
       "      <td>-0.012094</td>\n",
       "    </tr>\n",
       "    <tr>\n",
       "      <td>MSSubClass</td>\n",
       "      <td>0.012256</td>\n",
       "      <td>1.000000</td>\n",
       "      <td>-0.448766</td>\n",
       "      <td>-0.451083</td>\n",
       "      <td>0.037587</td>\n",
       "      <td>-0.061611</td>\n",
       "      <td>0.029492</td>\n",
       "      <td>0.045759</td>\n",
       "      <td>0.027520</td>\n",
       "      <td>-0.077515</td>\n",
       "      <td>...</td>\n",
       "      <td>-0.031778</td>\n",
       "      <td>0.004133</td>\n",
       "      <td>-0.015182</td>\n",
       "      <td>-0.040192</td>\n",
       "      <td>-0.023454</td>\n",
       "      <td>-0.004365</td>\n",
       "      <td>-0.022269</td>\n",
       "      <td>-0.006957</td>\n",
       "      <td>-0.014393</td>\n",
       "      <td>-0.086246</td>\n",
       "    </tr>\n",
       "    <tr>\n",
       "      <td>LotFrontage</td>\n",
       "      <td>-0.023118</td>\n",
       "      <td>-0.448766</td>\n",
       "      <td>1.000000</td>\n",
       "      <td>0.678127</td>\n",
       "      <td>0.268871</td>\n",
       "      <td>-0.067484</td>\n",
       "      <td>0.171292</td>\n",
       "      <td>0.101797</td>\n",
       "      <td>0.200012</td>\n",
       "      <td>0.170312</td>\n",
       "      <td>...</td>\n",
       "      <td>0.124608</td>\n",
       "      <td>0.124357</td>\n",
       "      <td>-0.016730</td>\n",
       "      <td>0.075769</td>\n",
       "      <td>0.058117</td>\n",
       "      <td>0.081716</td>\n",
       "      <td>0.006888</td>\n",
       "      <td>0.021690</td>\n",
       "      <td>0.011965</td>\n",
       "      <td>0.417641</td>\n",
       "    </tr>\n",
       "    <tr>\n",
       "      <td>LotArea</td>\n",
       "      <td>-0.015056</td>\n",
       "      <td>-0.451083</td>\n",
       "      <td>0.678127</td>\n",
       "      <td>1.000000</td>\n",
       "      <td>0.239175</td>\n",
       "      <td>-0.029282</td>\n",
       "      <td>0.110671</td>\n",
       "      <td>0.079136</td>\n",
       "      <td>0.152592</td>\n",
       "      <td>0.188845</td>\n",
       "      <td>...</td>\n",
       "      <td>0.173342</td>\n",
       "      <td>0.129221</td>\n",
       "      <td>-0.024275</td>\n",
       "      <td>0.050467</td>\n",
       "      <td>0.103347</td>\n",
       "      <td>0.061822</td>\n",
       "      <td>0.043920</td>\n",
       "      <td>0.004972</td>\n",
       "      <td>-0.032994</td>\n",
       "      <td>0.430210</td>\n",
       "    </tr>\n",
       "    <tr>\n",
       "      <td>OverallQual</td>\n",
       "      <td>-0.018083</td>\n",
       "      <td>0.037587</td>\n",
       "      <td>0.268871</td>\n",
       "      <td>0.239175</td>\n",
       "      <td>1.000000</td>\n",
       "      <td>-0.114028</td>\n",
       "      <td>0.593405</td>\n",
       "      <td>0.555495</td>\n",
       "      <td>0.396162</td>\n",
       "      <td>0.211375</td>\n",
       "      <td>...</td>\n",
       "      <td>0.237813</td>\n",
       "      <td>0.314135</td>\n",
       "      <td>-0.129258</td>\n",
       "      <td>0.027601</td>\n",
       "      <td>0.064719</td>\n",
       "      <td>0.043281</td>\n",
       "      <td>-0.021861</td>\n",
       "      <td>0.075959</td>\n",
       "      <td>-0.020221</td>\n",
       "      <td>0.808768</td>\n",
       "    </tr>\n",
       "    <tr>\n",
       "      <td>OverallCond</td>\n",
       "      <td>0.009765</td>\n",
       "      <td>-0.061611</td>\n",
       "      <td>-0.067484</td>\n",
       "      <td>-0.029282</td>\n",
       "      <td>-0.114028</td>\n",
       "      <td>1.000000</td>\n",
       "      <td>-0.374578</td>\n",
       "      <td>0.059364</td>\n",
       "      <td>-0.129944</td>\n",
       "      <td>-0.036217</td>\n",
       "      <td>...</td>\n",
       "      <td>-0.014771</td>\n",
       "      <td>-0.039157</td>\n",
       "      <td>0.086952</td>\n",
       "      <td>0.008417</td>\n",
       "      <td>0.050175</td>\n",
       "      <td>-0.001940</td>\n",
       "      <td>0.086281</td>\n",
       "      <td>-0.013630</td>\n",
       "      <td>0.032644</td>\n",
       "      <td>-0.107142</td>\n",
       "    </tr>\n",
       "    <tr>\n",
       "      <td>YearBuilt</td>\n",
       "      <td>-0.017100</td>\n",
       "      <td>0.029492</td>\n",
       "      <td>0.171292</td>\n",
       "      <td>0.110671</td>\n",
       "      <td>0.593405</td>\n",
       "      <td>-0.374578</td>\n",
       "      <td>1.000000</td>\n",
       "      <td>0.605294</td>\n",
       "      <td>0.313231</td>\n",
       "      <td>0.252865</td>\n",
       "      <td>...</td>\n",
       "      <td>0.234701</td>\n",
       "      <td>0.205229</td>\n",
       "      <td>-0.400078</td>\n",
       "      <td>0.026739</td>\n",
       "      <td>-0.033820</td>\n",
       "      <td>0.016560</td>\n",
       "      <td>-0.041105</td>\n",
       "      <td>0.018570</td>\n",
       "      <td>-0.009368</td>\n",
       "      <td>0.566838</td>\n",
       "    </tr>\n",
       "    <tr>\n",
       "      <td>YearRemodAdd</td>\n",
       "      <td>-0.025653</td>\n",
       "      <td>0.045759</td>\n",
       "      <td>0.101797</td>\n",
       "      <td>0.079136</td>\n",
       "      <td>0.555495</td>\n",
       "      <td>0.059364</td>\n",
       "      <td>0.605294</td>\n",
       "      <td>1.000000</td>\n",
       "      <td>0.173384</td>\n",
       "      <td>0.121741</td>\n",
       "      <td>...</td>\n",
       "      <td>0.219469</td>\n",
       "      <td>0.233571</td>\n",
       "      <td>-0.198093</td>\n",
       "      <td>0.035719</td>\n",
       "      <td>-0.036582</td>\n",
       "      <td>0.007900</td>\n",
       "      <td>-0.005452</td>\n",
       "      <td>0.023434</td>\n",
       "      <td>0.044845</td>\n",
       "      <td>0.532573</td>\n",
       "    </tr>\n",
       "    <tr>\n",
       "      <td>MasVnrArea</td>\n",
       "      <td>-0.053472</td>\n",
       "      <td>0.027520</td>\n",
       "      <td>0.200012</td>\n",
       "      <td>0.152592</td>\n",
       "      <td>0.396162</td>\n",
       "      <td>-0.129944</td>\n",
       "      <td>0.313231</td>\n",
       "      <td>0.173384</td>\n",
       "      <td>1.000000</td>\n",
       "      <td>0.215196</td>\n",
       "      <td>...</td>\n",
       "      <td>0.146519</td>\n",
       "      <td>0.115407</td>\n",
       "      <td>-0.113953</td>\n",
       "      <td>0.017032</td>\n",
       "      <td>0.074400</td>\n",
       "      <td>-0.009673</td>\n",
       "      <td>-0.026842</td>\n",
       "      <td>0.006980</td>\n",
       "      <td>0.002123</td>\n",
       "      <td>0.454627</td>\n",
       "    </tr>\n",
       "    <tr>\n",
       "      <td>BsmtFinSF1</td>\n",
       "      <td>0.002664</td>\n",
       "      <td>-0.077515</td>\n",
       "      <td>0.170312</td>\n",
       "      <td>0.188845</td>\n",
       "      <td>0.211375</td>\n",
       "      <td>-0.036217</td>\n",
       "      <td>0.252865</td>\n",
       "      <td>0.121741</td>\n",
       "      <td>0.215196</td>\n",
       "      <td>1.000000</td>\n",
       "      <td>...</td>\n",
       "      <td>0.187533</td>\n",
       "      <td>0.062855</td>\n",
       "      <td>-0.117354</td>\n",
       "      <td>0.033842</td>\n",
       "      <td>0.081819</td>\n",
       "      <td>0.072826</td>\n",
       "      <td>0.004129</td>\n",
       "      <td>0.008072</td>\n",
       "      <td>0.018410</td>\n",
       "      <td>0.386986</td>\n",
       "    </tr>\n",
       "    <tr>\n",
       "      <td>BsmtFinSF2</td>\n",
       "      <td>0.000663</td>\n",
       "      <td>-0.063399</td>\n",
       "      <td>0.029158</td>\n",
       "      <td>0.054115</td>\n",
       "      <td>-0.063419</td>\n",
       "      <td>0.050438</td>\n",
       "      <td>-0.043712</td>\n",
       "      <td>-0.064672</td>\n",
       "      <td>-0.072063</td>\n",
       "      <td>-0.046294</td>\n",
       "      <td>...</td>\n",
       "      <td>0.076359</td>\n",
       "      <td>-0.020372</td>\n",
       "      <td>0.019801</td>\n",
       "      <td>-0.029660</td>\n",
       "      <td>0.072049</td>\n",
       "      <td>0.060037</td>\n",
       "      <td>-0.006330</td>\n",
       "      <td>-0.017878</td>\n",
       "      <td>0.039056</td>\n",
       "      <td>-0.025884</td>\n",
       "    </tr>\n",
       "    <tr>\n",
       "      <td>BsmtUnfSF</td>\n",
       "      <td>-0.014757</td>\n",
       "      <td>-0.143161</td>\n",
       "      <td>0.163383</td>\n",
       "      <td>0.116584</td>\n",
       "      <td>0.325388</td>\n",
       "      <td>-0.150478</td>\n",
       "      <td>0.165034</td>\n",
       "      <td>0.193848</td>\n",
       "      <td>0.122182</td>\n",
       "      <td>-0.525828</td>\n",
       "      <td>...</td>\n",
       "      <td>0.010184</td>\n",
       "      <td>0.141778</td>\n",
       "      <td>-0.001165</td>\n",
       "      <td>0.013759</td>\n",
       "      <td>-0.017738</td>\n",
       "      <td>-0.039006</td>\n",
       "      <td>-0.029728</td>\n",
       "      <td>0.038403</td>\n",
       "      <td>-0.035792</td>\n",
       "      <td>0.241971</td>\n",
       "    </tr>\n",
       "    <tr>\n",
       "      <td>TotalBsmtSF</td>\n",
       "      <td>-0.012981</td>\n",
       "      <td>-0.258609</td>\n",
       "      <td>0.363092</td>\n",
       "      <td>0.341463</td>\n",
       "      <td>0.547368</td>\n",
       "      <td>-0.181719</td>\n",
       "      <td>0.423899</td>\n",
       "      <td>0.311815</td>\n",
       "      <td>0.327812</td>\n",
       "      <td>0.447062</td>\n",
       "      <td>...</td>\n",
       "      <td>0.233120</td>\n",
       "      <td>0.210958</td>\n",
       "      <td>-0.115231</td>\n",
       "      <td>0.038903</td>\n",
       "      <td>0.092022</td>\n",
       "      <td>0.055251</td>\n",
       "      <td>-0.030266</td>\n",
       "      <td>0.043314</td>\n",
       "      <td>-0.005278</td>\n",
       "      <td>0.652439</td>\n",
       "    </tr>\n",
       "    <tr>\n",
       "      <td>1stFlrSF</td>\n",
       "      <td>0.010068</td>\n",
       "      <td>-0.263361</td>\n",
       "      <td>0.426814</td>\n",
       "      <td>0.433703</td>\n",
       "      <td>0.478405</td>\n",
       "      <td>-0.159965</td>\n",
       "      <td>0.309008</td>\n",
       "      <td>0.249456</td>\n",
       "      <td>0.310452</td>\n",
       "      <td>0.379953</td>\n",
       "      <td>...</td>\n",
       "      <td>0.228957</td>\n",
       "      <td>0.176415</td>\n",
       "      <td>-0.083046</td>\n",
       "      <td>0.043431</td>\n",
       "      <td>0.093942</td>\n",
       "      <td>0.059712</td>\n",
       "      <td>-0.029656</td>\n",
       "      <td>0.044571</td>\n",
       "      <td>-0.006917</td>\n",
       "      <td>0.632954</td>\n",
       "    </tr>\n",
       "    <tr>\n",
       "      <td>2ndFlrSF</td>\n",
       "      <td>0.003436</td>\n",
       "      <td>0.314172</td>\n",
       "      <td>0.062677</td>\n",
       "      <td>0.099292</td>\n",
       "      <td>0.276185</td>\n",
       "      <td>0.013544</td>\n",
       "      <td>0.013562</td>\n",
       "      <td>0.131317</td>\n",
       "      <td>0.148224</td>\n",
       "      <td>-0.178234</td>\n",
       "      <td>...</td>\n",
       "      <td>0.067887</td>\n",
       "      <td>0.210763</td>\n",
       "      <td>0.057125</td>\n",
       "      <td>-0.020069</td>\n",
       "      <td>0.025898</td>\n",
       "      <td>0.059593</td>\n",
       "      <td>-0.006952</td>\n",
       "      <td>0.043465</td>\n",
       "      <td>-0.015537</td>\n",
       "      <td>0.295925</td>\n",
       "    </tr>\n",
       "    <tr>\n",
       "      <td>LowQualFinSF</td>\n",
       "      <td>-0.038639</td>\n",
       "      <td>0.046850</td>\n",
       "      <td>-0.016264</td>\n",
       "      <td>-0.020500</td>\n",
       "      <td>-0.062980</td>\n",
       "      <td>0.007181</td>\n",
       "      <td>-0.170361</td>\n",
       "      <td>-0.080904</td>\n",
       "      <td>-0.067014</td>\n",
       "      <td>-0.069587</td>\n",
       "      <td>...</td>\n",
       "      <td>-0.016692</td>\n",
       "      <td>0.002664</td>\n",
       "      <td>0.022530</td>\n",
       "      <td>-0.000777</td>\n",
       "      <td>-0.030637</td>\n",
       "      <td>-0.006150</td>\n",
       "      <td>-0.001258</td>\n",
       "      <td>-0.007096</td>\n",
       "      <td>-0.007606</td>\n",
       "      <td>-0.068871</td>\n",
       "    </tr>\n",
       "    <tr>\n",
       "      <td>GrLivArea</td>\n",
       "      <td>0.006969</td>\n",
       "      <td>0.083866</td>\n",
       "      <td>0.372591</td>\n",
       "      <td>0.408134</td>\n",
       "      <td>0.592722</td>\n",
       "      <td>-0.106554</td>\n",
       "      <td>0.226344</td>\n",
       "      <td>0.293521</td>\n",
       "      <td>0.354459</td>\n",
       "      <td>0.120123</td>\n",
       "      <td>...</td>\n",
       "      <td>0.228493</td>\n",
       "      <td>0.316505</td>\n",
       "      <td>-0.009643</td>\n",
       "      <td>0.014655</td>\n",
       "      <td>0.089855</td>\n",
       "      <td>0.096178</td>\n",
       "      <td>-0.028294</td>\n",
       "      <td>0.070669</td>\n",
       "      <td>-0.019479</td>\n",
       "      <td>0.724565</td>\n",
       "    </tr>\n",
       "    <tr>\n",
       "      <td>BsmtFullBath</td>\n",
       "      <td>0.021736</td>\n",
       "      <td>0.005408</td>\n",
       "      <td>0.060792</td>\n",
       "      <td>0.077962</td>\n",
       "      <td>0.099724</td>\n",
       "      <td>-0.050864</td>\n",
       "      <td>0.192616</td>\n",
       "      <td>0.122678</td>\n",
       "      <td>0.071761</td>\n",
       "      <td>0.650875</td>\n",
       "      <td>...</td>\n",
       "      <td>0.161569</td>\n",
       "      <td>0.049303</td>\n",
       "      <td>-0.058338</td>\n",
       "      <td>-0.005067</td>\n",
       "      <td>0.029814</td>\n",
       "      <td>0.061983</td>\n",
       "      <td>-0.015786</td>\n",
       "      <td>-0.021835</td>\n",
       "      <td>0.069951</td>\n",
       "      <td>0.216955</td>\n",
       "    </tr>\n",
       "    <tr>\n",
       "      <td>BsmtHalfBath</td>\n",
       "      <td>-0.016169</td>\n",
       "      <td>-0.002473</td>\n",
       "      <td>-0.017545</td>\n",
       "      <td>0.028626</td>\n",
       "      <td>-0.050432</td>\n",
       "      <td>0.133496</td>\n",
       "      <td>-0.038128</td>\n",
       "      <td>-0.010696</td>\n",
       "      <td>0.006812</td>\n",
       "      <td>0.073602</td>\n",
       "      <td>...</td>\n",
       "      <td>0.030600</td>\n",
       "      <td>-0.024596</td>\n",
       "      <td>-0.028578</td>\n",
       "      <td>0.044865</td>\n",
       "      <td>0.031005</td>\n",
       "      <td>-0.012652</td>\n",
       "      <td>-0.007285</td>\n",
       "      <td>0.050415</td>\n",
       "      <td>-0.046841</td>\n",
       "      <td>-0.035226</td>\n",
       "    </tr>\n",
       "    <tr>\n",
       "      <td>FullBath</td>\n",
       "      <td>0.004621</td>\n",
       "      <td>0.137250</td>\n",
       "      <td>0.215713</td>\n",
       "      <td>0.214618</td>\n",
       "      <td>0.563005</td>\n",
       "      <td>-0.223155</td>\n",
       "      <td>0.499342</td>\n",
       "      <td>0.450156</td>\n",
       "      <td>0.261510</td>\n",
       "      <td>0.050639</td>\n",
       "      <td>...</td>\n",
       "      <td>0.185563</td>\n",
       "      <td>0.282418</td>\n",
       "      <td>-0.138815</td>\n",
       "      <td>0.031599</td>\n",
       "      <td>-0.016071</td>\n",
       "      <td>0.037513</td>\n",
       "      <td>-0.026287</td>\n",
       "      <td>0.054298</td>\n",
       "      <td>-0.007185</td>\n",
       "      <td>0.578268</td>\n",
       "    </tr>\n",
       "    <tr>\n",
       "      <td>HalfBath</td>\n",
       "      <td>-0.003729</td>\n",
       "      <td>0.180453</td>\n",
       "      <td>0.060649</td>\n",
       "      <td>0.099411</td>\n",
       "      <td>0.266785</td>\n",
       "      <td>-0.057659</td>\n",
       "      <td>0.237954</td>\n",
       "      <td>0.178529</td>\n",
       "      <td>0.198918</td>\n",
       "      <td>-0.020001</td>\n",
       "      <td>...</td>\n",
       "      <td>0.101223</td>\n",
       "      <td>0.182530</td>\n",
       "      <td>-0.088560</td>\n",
       "      <td>0.001800</td>\n",
       "      <td>0.059473</td>\n",
       "      <td>0.039575</td>\n",
       "      <td>-0.038018</td>\n",
       "      <td>-0.012055</td>\n",
       "      <td>0.003314</td>\n",
       "      <td>0.284875</td>\n",
       "    </tr>\n",
       "    <tr>\n",
       "      <td>BedroomAbvGr</td>\n",
       "      <td>0.027720</td>\n",
       "      <td>-0.036768</td>\n",
       "      <td>0.283914</td>\n",
       "      <td>0.314677</td>\n",
       "      <td>0.102969</td>\n",
       "      <td>0.004345</td>\n",
       "      <td>-0.060685</td>\n",
       "      <td>-0.041092</td>\n",
       "      <td>0.088922</td>\n",
       "      <td>-0.105285</td>\n",
       "      <td>...</td>\n",
       "      <td>0.050653</td>\n",
       "      <td>0.100585</td>\n",
       "      <td>0.025568</td>\n",
       "      <td>-0.026285</td>\n",
       "      <td>0.030938</td>\n",
       "      <td>0.055571</td>\n",
       "      <td>-0.008814</td>\n",
       "      <td>0.048530</td>\n",
       "      <td>-0.029311</td>\n",
       "      <td>0.170796</td>\n",
       "    </tr>\n",
       "    <tr>\n",
       "      <td>KitchenAbvGr</td>\n",
       "      <td>-0.000232</td>\n",
       "      <td>0.289531</td>\n",
       "      <td>0.002290</td>\n",
       "      <td>-0.018642</td>\n",
       "      <td>-0.186614</td>\n",
       "      <td>-0.077584</td>\n",
       "      <td>-0.184156</td>\n",
       "      <td>-0.152111</td>\n",
       "      <td>-0.033268</td>\n",
       "      <td>-0.086838</td>\n",
       "      <td>...</td>\n",
       "      <td>-0.089051</td>\n",
       "      <td>-0.065007</td>\n",
       "      <td>0.026169</td>\n",
       "      <td>-0.022852</td>\n",
       "      <td>-0.050587</td>\n",
       "      <td>-0.011348</td>\n",
       "      <td>0.014933</td>\n",
       "      <td>0.030374</td>\n",
       "      <td>0.038431</td>\n",
       "      <td>-0.140776</td>\n",
       "    </tr>\n",
       "    <tr>\n",
       "      <td>TotRmsAbvGrd</td>\n",
       "      <td>0.018953</td>\n",
       "      <td>0.037473</td>\n",
       "      <td>0.350722</td>\n",
       "      <td>0.395897</td>\n",
       "      <td>0.420769</td>\n",
       "      <td>-0.076630</td>\n",
       "      <td>0.109465</td>\n",
       "      <td>0.186732</td>\n",
       "      <td>0.264942</td>\n",
       "      <td>0.003457</td>\n",
       "      <td>...</td>\n",
       "      <td>0.161864</td>\n",
       "      <td>0.234751</td>\n",
       "      <td>-0.009424</td>\n",
       "      <td>-0.012643</td>\n",
       "      <td>0.044334</td>\n",
       "      <td>0.053371</td>\n",
       "      <td>-0.013848</td>\n",
       "      <td>0.042766</td>\n",
       "      <td>-0.024292</td>\n",
       "      <td>0.533753</td>\n",
       "    </tr>\n",
       "    <tr>\n",
       "      <td>Fireplaces</td>\n",
       "      <td>-0.013011</td>\n",
       "      <td>-0.037686</td>\n",
       "      <td>0.248316</td>\n",
       "      <td>0.297447</td>\n",
       "      <td>0.399440</td>\n",
       "      <td>-0.033910</td>\n",
       "      <td>0.165621</td>\n",
       "      <td>0.116907</td>\n",
       "      <td>0.249832</td>\n",
       "      <td>0.223579</td>\n",
       "      <td>...</td>\n",
       "      <td>0.198637</td>\n",
       "      <td>0.145568</td>\n",
       "      <td>-0.040555</td>\n",
       "      <td>0.000684</td>\n",
       "      <td>0.190540</td>\n",
       "      <td>0.075877</td>\n",
       "      <td>-0.005469</td>\n",
       "      <td>0.048543</td>\n",
       "      <td>-0.019904</td>\n",
       "      <td>0.463807</td>\n",
       "    </tr>\n",
       "    <tr>\n",
       "      <td>GarageYrBlt</td>\n",
       "      <td>-0.003114</td>\n",
       "      <td>0.086815</td>\n",
       "      <td>0.113873</td>\n",
       "      <td>0.057533</td>\n",
       "      <td>0.562566</td>\n",
       "      <td>-0.338926</td>\n",
       "      <td>0.834636</td>\n",
       "      <td>0.651361</td>\n",
       "      <td>0.247186</td>\n",
       "      <td>0.159084</td>\n",
       "      <td>...</td>\n",
       "      <td>0.241046</td>\n",
       "      <td>0.253831</td>\n",
       "      <td>-0.301019</td>\n",
       "      <td>0.022027</td>\n",
       "      <td>-0.073839</td>\n",
       "      <td>0.004703</td>\n",
       "      <td>-0.036804</td>\n",
       "      <td>0.012475</td>\n",
       "      <td>0.007591</td>\n",
       "      <td>0.523625</td>\n",
       "    </tr>\n",
       "    <tr>\n",
       "      <td>GarageCars</td>\n",
       "      <td>0.023133</td>\n",
       "      <td>-0.045047</td>\n",
       "      <td>0.325873</td>\n",
       "      <td>0.301030</td>\n",
       "      <td>0.613132</td>\n",
       "      <td>-0.192502</td>\n",
       "      <td>0.564704</td>\n",
       "      <td>0.435542</td>\n",
       "      <td>0.363981</td>\n",
       "      <td>0.211585</td>\n",
       "      <td>...</td>\n",
       "      <td>0.217700</td>\n",
       "      <td>0.208721</td>\n",
       "      <td>-0.155433</td>\n",
       "      <td>0.035687</td>\n",
       "      <td>0.038675</td>\n",
       "      <td>0.017341</td>\n",
       "      <td>-0.053035</td>\n",
       "      <td>0.040272</td>\n",
       "      <td>-0.028625</td>\n",
       "      <td>0.655813</td>\n",
       "    </tr>\n",
       "    <tr>\n",
       "      <td>GarageArea</td>\n",
       "      <td>0.023371</td>\n",
       "      <td>-0.109925</td>\n",
       "      <td>0.360671</td>\n",
       "      <td>0.340375</td>\n",
       "      <td>0.576708</td>\n",
       "      <td>-0.150644</td>\n",
       "      <td>0.511423</td>\n",
       "      <td>0.393456</td>\n",
       "      <td>0.367292</td>\n",
       "      <td>0.248278</td>\n",
       "      <td>...</td>\n",
       "      <td>0.217531</td>\n",
       "      <td>0.233700</td>\n",
       "      <td>-0.138594</td>\n",
       "      <td>0.036839</td>\n",
       "      <td>0.043321</td>\n",
       "      <td>0.021416</td>\n",
       "      <td>-0.040365</td>\n",
       "      <td>0.041696</td>\n",
       "      <td>-0.017220</td>\n",
       "      <td>0.648032</td>\n",
       "    </tr>\n",
       "    <tr>\n",
       "      <td>WoodDeckSF</td>\n",
       "      <td>-0.029206</td>\n",
       "      <td>-0.031778</td>\n",
       "      <td>0.124608</td>\n",
       "      <td>0.173342</td>\n",
       "      <td>0.237813</td>\n",
       "      <td>-0.014771</td>\n",
       "      <td>0.234701</td>\n",
       "      <td>0.219469</td>\n",
       "      <td>0.146519</td>\n",
       "      <td>0.187533</td>\n",
       "      <td>...</td>\n",
       "      <td>1.000000</td>\n",
       "      <td>0.058926</td>\n",
       "      <td>-0.119399</td>\n",
       "      <td>-0.038879</td>\n",
       "      <td>-0.090634</td>\n",
       "      <td>0.034127</td>\n",
       "      <td>-0.019550</td>\n",
       "      <td>0.021098</td>\n",
       "      <td>0.031735</td>\n",
       "      <td>0.306315</td>\n",
       "    </tr>\n",
       "    <tr>\n",
       "      <td>OpenPorchSF</td>\n",
       "      <td>-0.007554</td>\n",
       "      <td>0.004133</td>\n",
       "      <td>0.124357</td>\n",
       "      <td>0.129221</td>\n",
       "      <td>0.314135</td>\n",
       "      <td>-0.039157</td>\n",
       "      <td>0.205229</td>\n",
       "      <td>0.233571</td>\n",
       "      <td>0.115407</td>\n",
       "      <td>0.062855</td>\n",
       "      <td>...</td>\n",
       "      <td>0.058926</td>\n",
       "      <td>1.000000</td>\n",
       "      <td>-0.089990</td>\n",
       "      <td>-0.017660</td>\n",
       "      <td>0.038010</td>\n",
       "      <td>-0.000670</td>\n",
       "      <td>-0.014654</td>\n",
       "      <td>0.075193</td>\n",
       "      <td>-0.035930</td>\n",
       "      <td>0.335182</td>\n",
       "    </tr>\n",
       "    <tr>\n",
       "      <td>EnclosedPorch</td>\n",
       "      <td>0.010026</td>\n",
       "      <td>-0.015182</td>\n",
       "      <td>-0.016730</td>\n",
       "      <td>-0.024275</td>\n",
       "      <td>-0.129258</td>\n",
       "      <td>0.086952</td>\n",
       "      <td>-0.400078</td>\n",
       "      <td>-0.198093</td>\n",
       "      <td>-0.113953</td>\n",
       "      <td>-0.117354</td>\n",
       "      <td>...</td>\n",
       "      <td>-0.119399</td>\n",
       "      <td>-0.089990</td>\n",
       "      <td>1.000000</td>\n",
       "      <td>-0.034200</td>\n",
       "      <td>-0.081334</td>\n",
       "      <td>-0.019507</td>\n",
       "      <td>-0.004027</td>\n",
       "      <td>-0.023195</td>\n",
       "      <td>-0.011758</td>\n",
       "      <td>-0.143057</td>\n",
       "    </tr>\n",
       "    <tr>\n",
       "      <td>3SsnPorch</td>\n",
       "      <td>-0.051052</td>\n",
       "      <td>-0.040192</td>\n",
       "      <td>0.075769</td>\n",
       "      <td>0.050467</td>\n",
       "      <td>0.027601</td>\n",
       "      <td>0.008417</td>\n",
       "      <td>0.026739</td>\n",
       "      <td>0.035719</td>\n",
       "      <td>0.017032</td>\n",
       "      <td>0.033842</td>\n",
       "      <td>...</td>\n",
       "      <td>-0.038879</td>\n",
       "      <td>-0.017660</td>\n",
       "      <td>-0.034200</td>\n",
       "      <td>1.000000</td>\n",
       "      <td>-0.028819</td>\n",
       "      <td>-0.005785</td>\n",
       "      <td>0.003472</td>\n",
       "      <td>0.024316</td>\n",
       "      <td>0.036582</td>\n",
       "      <td>0.037773</td>\n",
       "    </tr>\n",
       "    <tr>\n",
       "      <td>ScreenPorch</td>\n",
       "      <td>0.002379</td>\n",
       "      <td>-0.023454</td>\n",
       "      <td>0.058117</td>\n",
       "      <td>0.103347</td>\n",
       "      <td>0.064719</td>\n",
       "      <td>0.050175</td>\n",
       "      <td>-0.033820</td>\n",
       "      <td>-0.036582</td>\n",
       "      <td>0.074400</td>\n",
       "      <td>0.081819</td>\n",
       "      <td>...</td>\n",
       "      <td>-0.090634</td>\n",
       "      <td>0.038010</td>\n",
       "      <td>-0.081334</td>\n",
       "      <td>-0.028819</td>\n",
       "      <td>1.000000</td>\n",
       "      <td>0.083874</td>\n",
       "      <td>0.042783</td>\n",
       "      <td>0.022224</td>\n",
       "      <td>0.019053</td>\n",
       "      <td>0.103414</td>\n",
       "    </tr>\n",
       "    <tr>\n",
       "      <td>PoolArea</td>\n",
       "      <td>0.049858</td>\n",
       "      <td>-0.004365</td>\n",
       "      <td>0.081716</td>\n",
       "      <td>0.061822</td>\n",
       "      <td>0.043281</td>\n",
       "      <td>-0.001940</td>\n",
       "      <td>0.016560</td>\n",
       "      <td>0.007900</td>\n",
       "      <td>-0.009673</td>\n",
       "      <td>0.072826</td>\n",
       "      <td>...</td>\n",
       "      <td>0.034127</td>\n",
       "      <td>-0.000670</td>\n",
       "      <td>-0.019507</td>\n",
       "      <td>-0.005785</td>\n",
       "      <td>0.083874</td>\n",
       "      <td>1.000000</td>\n",
       "      <td>0.048442</td>\n",
       "      <td>-0.020234</td>\n",
       "      <td>-0.043654</td>\n",
       "      <td>0.108751</td>\n",
       "    </tr>\n",
       "    <tr>\n",
       "      <td>MiscVal</td>\n",
       "      <td>-0.021183</td>\n",
       "      <td>-0.022269</td>\n",
       "      <td>0.006888</td>\n",
       "      <td>0.043920</td>\n",
       "      <td>-0.021861</td>\n",
       "      <td>0.086281</td>\n",
       "      <td>-0.041105</td>\n",
       "      <td>-0.005452</td>\n",
       "      <td>-0.026842</td>\n",
       "      <td>0.004129</td>\n",
       "      <td>...</td>\n",
       "      <td>-0.019550</td>\n",
       "      <td>-0.014654</td>\n",
       "      <td>-0.004027</td>\n",
       "      <td>0.003472</td>\n",
       "      <td>0.042783</td>\n",
       "      <td>0.048442</td>\n",
       "      <td>1.000000</td>\n",
       "      <td>-0.016795</td>\n",
       "      <td>0.013545</td>\n",
       "      <td>-0.024032</td>\n",
       "    </tr>\n",
       "    <tr>\n",
       "      <td>MoSold</td>\n",
       "      <td>0.022811</td>\n",
       "      <td>-0.006957</td>\n",
       "      <td>0.021690</td>\n",
       "      <td>0.004972</td>\n",
       "      <td>0.075959</td>\n",
       "      <td>-0.013630</td>\n",
       "      <td>0.018570</td>\n",
       "      <td>0.023434</td>\n",
       "      <td>0.006980</td>\n",
       "      <td>0.008072</td>\n",
       "      <td>...</td>\n",
       "      <td>0.021098</td>\n",
       "      <td>0.075193</td>\n",
       "      <td>-0.023195</td>\n",
       "      <td>0.024316</td>\n",
       "      <td>0.022224</td>\n",
       "      <td>-0.020234</td>\n",
       "      <td>-0.016795</td>\n",
       "      <td>1.000000</td>\n",
       "      <td>-0.151823</td>\n",
       "      <td>0.064444</td>\n",
       "    </tr>\n",
       "    <tr>\n",
       "      <td>YrSold</td>\n",
       "      <td>-0.002155</td>\n",
       "      <td>-0.014393</td>\n",
       "      <td>0.011965</td>\n",
       "      <td>-0.032994</td>\n",
       "      <td>-0.020221</td>\n",
       "      <td>0.032644</td>\n",
       "      <td>-0.009368</td>\n",
       "      <td>0.044845</td>\n",
       "      <td>0.002123</td>\n",
       "      <td>0.018410</td>\n",
       "      <td>...</td>\n",
       "      <td>0.031735</td>\n",
       "      <td>-0.035930</td>\n",
       "      <td>-0.011758</td>\n",
       "      <td>0.036582</td>\n",
       "      <td>0.019053</td>\n",
       "      <td>-0.043654</td>\n",
       "      <td>0.013545</td>\n",
       "      <td>-0.151823</td>\n",
       "      <td>1.000000</td>\n",
       "      <td>-0.014115</td>\n",
       "    </tr>\n",
       "    <tr>\n",
       "      <td>SalePrice</td>\n",
       "      <td>-0.012094</td>\n",
       "      <td>-0.086246</td>\n",
       "      <td>0.417641</td>\n",
       "      <td>0.430210</td>\n",
       "      <td>0.808768</td>\n",
       "      <td>-0.107142</td>\n",
       "      <td>0.566838</td>\n",
       "      <td>0.532573</td>\n",
       "      <td>0.454627</td>\n",
       "      <td>0.386986</td>\n",
       "      <td>...</td>\n",
       "      <td>0.306315</td>\n",
       "      <td>0.335182</td>\n",
       "      <td>-0.143057</td>\n",
       "      <td>0.037773</td>\n",
       "      <td>0.103414</td>\n",
       "      <td>0.108751</td>\n",
       "      <td>-0.024032</td>\n",
       "      <td>0.064444</td>\n",
       "      <td>-0.014115</td>\n",
       "      <td>1.000000</td>\n",
       "    </tr>\n",
       "  </tbody>\n",
       "</table>\n",
       "<p>38 rows × 38 columns</p>\n",
       "</div>"
      ],
      "text/plain": [
       "                     Id  MSSubClass  LotFrontage   LotArea  OverallQual  \\\n",
       "Id             1.000000    0.012256    -0.023118 -0.015056    -0.018083   \n",
       "MSSubClass     0.012256    1.000000    -0.448766 -0.451083     0.037587   \n",
       "LotFrontage   -0.023118   -0.448766     1.000000  0.678127     0.268871   \n",
       "LotArea       -0.015056   -0.451083     0.678127  1.000000     0.239175   \n",
       "OverallQual   -0.018083    0.037587     0.268871  0.239175     1.000000   \n",
       "OverallCond    0.009765   -0.061611    -0.067484 -0.029282    -0.114028   \n",
       "YearBuilt     -0.017100    0.029492     0.171292  0.110671     0.593405   \n",
       "YearRemodAdd  -0.025653    0.045759     0.101797  0.079136     0.555495   \n",
       "MasVnrArea    -0.053472    0.027520     0.200012  0.152592     0.396162   \n",
       "BsmtFinSF1     0.002664   -0.077515     0.170312  0.188845     0.211375   \n",
       "BsmtFinSF2     0.000663   -0.063399     0.029158  0.054115    -0.063419   \n",
       "BsmtUnfSF     -0.014757   -0.143161     0.163383  0.116584     0.325388   \n",
       "TotalBsmtSF   -0.012981   -0.258609     0.363092  0.341463     0.547368   \n",
       "1stFlrSF       0.010068   -0.263361     0.426814  0.433703     0.478405   \n",
       "2ndFlrSF       0.003436    0.314172     0.062677  0.099292     0.276185   \n",
       "LowQualFinSF  -0.038639    0.046850    -0.016264 -0.020500    -0.062980   \n",
       "GrLivArea      0.006969    0.083866     0.372591  0.408134     0.592722   \n",
       "BsmtFullBath   0.021736    0.005408     0.060792  0.077962     0.099724   \n",
       "BsmtHalfBath  -0.016169   -0.002473    -0.017545  0.028626    -0.050432   \n",
       "FullBath       0.004621    0.137250     0.215713  0.214618     0.563005   \n",
       "HalfBath      -0.003729    0.180453     0.060649  0.099411     0.266785   \n",
       "BedroomAbvGr   0.027720   -0.036768     0.283914  0.314677     0.102969   \n",
       "KitchenAbvGr  -0.000232    0.289531     0.002290 -0.018642    -0.186614   \n",
       "TotRmsAbvGrd   0.018953    0.037473     0.350722  0.395897     0.420769   \n",
       "Fireplaces    -0.013011   -0.037686     0.248316  0.297447     0.399440   \n",
       "GarageYrBlt   -0.003114    0.086815     0.113873  0.057533     0.562566   \n",
       "GarageCars     0.023133   -0.045047     0.325873  0.301030     0.613132   \n",
       "GarageArea     0.023371   -0.109925     0.360671  0.340375     0.576708   \n",
       "WoodDeckSF    -0.029206   -0.031778     0.124608  0.173342     0.237813   \n",
       "OpenPorchSF   -0.007554    0.004133     0.124357  0.129221     0.314135   \n",
       "EnclosedPorch  0.010026   -0.015182    -0.016730 -0.024275    -0.129258   \n",
       "3SsnPorch     -0.051052   -0.040192     0.075769  0.050467     0.027601   \n",
       "ScreenPorch    0.002379   -0.023454     0.058117  0.103347     0.064719   \n",
       "PoolArea       0.049858   -0.004365     0.081716  0.061822     0.043281   \n",
       "MiscVal       -0.021183   -0.022269     0.006888  0.043920    -0.021861   \n",
       "MoSold         0.022811   -0.006957     0.021690  0.004972     0.075959   \n",
       "YrSold        -0.002155   -0.014393     0.011965 -0.032994    -0.020221   \n",
       "SalePrice     -0.012094   -0.086246     0.417641  0.430210     0.808768   \n",
       "\n",
       "               OverallCond  YearBuilt  YearRemodAdd  MasVnrArea  BsmtFinSF1  \\\n",
       "Id                0.009765  -0.017100     -0.025653   -0.053472    0.002664   \n",
       "MSSubClass       -0.061611   0.029492      0.045759    0.027520   -0.077515   \n",
       "LotFrontage      -0.067484   0.171292      0.101797    0.200012    0.170312   \n",
       "LotArea          -0.029282   0.110671      0.079136    0.152592    0.188845   \n",
       "OverallQual      -0.114028   0.593405      0.555495    0.396162    0.211375   \n",
       "OverallCond       1.000000  -0.374578      0.059364   -0.129944   -0.036217   \n",
       "YearBuilt        -0.374578   1.000000      0.605294    0.313231    0.252865   \n",
       "YearRemodAdd      0.059364   0.605294      1.000000    0.173384    0.121741   \n",
       "MasVnrArea       -0.129944   0.313231      0.173384    1.000000    0.215196   \n",
       "BsmtFinSF1       -0.036217   0.252865      0.121741    0.215196    1.000000   \n",
       "BsmtFinSF2        0.050438  -0.043712     -0.064672   -0.072063   -0.046294   \n",
       "BsmtUnfSF        -0.150478   0.165034      0.193848    0.122182   -0.525828   \n",
       "TotalBsmtSF      -0.181719   0.423899      0.311815    0.327812    0.447062   \n",
       "1stFlrSF         -0.159965   0.309008      0.249456    0.310452    0.379953   \n",
       "2ndFlrSF          0.013544   0.013562      0.131317    0.148224   -0.178234   \n",
       "LowQualFinSF      0.007181  -0.170361     -0.080904   -0.067014   -0.069587   \n",
       "GrLivArea        -0.106554   0.226344      0.293521    0.354459    0.120123   \n",
       "BsmtFullBath     -0.050864   0.192616      0.122678    0.071761    0.650875   \n",
       "BsmtHalfBath      0.133496  -0.038128     -0.010696    0.006812    0.073602   \n",
       "FullBath         -0.223155   0.499342      0.450156    0.261510    0.050639   \n",
       "HalfBath         -0.057659   0.237954      0.178529    0.198918   -0.020001   \n",
       "BedroomAbvGr      0.004345  -0.060685     -0.041092    0.088922   -0.105285   \n",
       "KitchenAbvGr     -0.077584  -0.184156     -0.152111   -0.033268   -0.086838   \n",
       "TotRmsAbvGrd     -0.076630   0.109465      0.186732    0.264942    0.003457   \n",
       "Fireplaces       -0.033910   0.165621      0.116907    0.249832    0.223579   \n",
       "GarageYrBlt      -0.338926   0.834636      0.651361    0.247186    0.159084   \n",
       "GarageCars       -0.192502   0.564704      0.435542    0.363981    0.211585   \n",
       "GarageArea       -0.150644   0.511423      0.393456    0.367292    0.248278   \n",
       "WoodDeckSF       -0.014771   0.234701      0.219469    0.146519    0.187533   \n",
       "OpenPorchSF      -0.039157   0.205229      0.233571    0.115407    0.062855   \n",
       "EnclosedPorch     0.086952  -0.400078     -0.198093   -0.113953   -0.117354   \n",
       "3SsnPorch         0.008417   0.026739      0.035719    0.017032    0.033842   \n",
       "ScreenPorch       0.050175  -0.033820     -0.036582    0.074400    0.081819   \n",
       "PoolArea         -0.001940   0.016560      0.007900   -0.009673    0.072826   \n",
       "MiscVal           0.086281  -0.041105     -0.005452   -0.026842    0.004129   \n",
       "MoSold           -0.013630   0.018570      0.023434    0.006980    0.008072   \n",
       "YrSold            0.032644  -0.009368      0.044845    0.002123    0.018410   \n",
       "SalePrice        -0.107142   0.566838      0.532573    0.454627    0.386986   \n",
       "\n",
       "               ...  WoodDeckSF  OpenPorchSF  EnclosedPorch  3SsnPorch  \\\n",
       "Id             ...   -0.029206    -0.007554       0.010026  -0.051052   \n",
       "MSSubClass     ...   -0.031778     0.004133      -0.015182  -0.040192   \n",
       "LotFrontage    ...    0.124608     0.124357      -0.016730   0.075769   \n",
       "LotArea        ...    0.173342     0.129221      -0.024275   0.050467   \n",
       "OverallQual    ...    0.237813     0.314135      -0.129258   0.027601   \n",
       "OverallCond    ...   -0.014771    -0.039157       0.086952   0.008417   \n",
       "YearBuilt      ...    0.234701     0.205229      -0.400078   0.026739   \n",
       "YearRemodAdd   ...    0.219469     0.233571      -0.198093   0.035719   \n",
       "MasVnrArea     ...    0.146519     0.115407      -0.113953   0.017032   \n",
       "BsmtFinSF1     ...    0.187533     0.062855      -0.117354   0.033842   \n",
       "BsmtFinSF2     ...    0.076359    -0.020372       0.019801  -0.029660   \n",
       "BsmtUnfSF      ...    0.010184     0.141778      -0.001165   0.013759   \n",
       "TotalBsmtSF    ...    0.233120     0.210958      -0.115231   0.038903   \n",
       "1stFlrSF       ...    0.228957     0.176415      -0.083046   0.043431   \n",
       "2ndFlrSF       ...    0.067887     0.210763       0.057125  -0.020069   \n",
       "LowQualFinSF   ...   -0.016692     0.002664       0.022530  -0.000777   \n",
       "GrLivArea      ...    0.228493     0.316505      -0.009643   0.014655   \n",
       "BsmtFullBath   ...    0.161569     0.049303      -0.058338  -0.005067   \n",
       "BsmtHalfBath   ...    0.030600    -0.024596      -0.028578   0.044865   \n",
       "FullBath       ...    0.185563     0.282418      -0.138815   0.031599   \n",
       "HalfBath       ...    0.101223     0.182530      -0.088560   0.001800   \n",
       "BedroomAbvGr   ...    0.050653     0.100585       0.025568  -0.026285   \n",
       "KitchenAbvGr   ...   -0.089051    -0.065007       0.026169  -0.022852   \n",
       "TotRmsAbvGrd   ...    0.161864     0.234751      -0.009424  -0.012643   \n",
       "Fireplaces     ...    0.198637     0.145568      -0.040555   0.000684   \n",
       "GarageYrBlt    ...    0.241046     0.253831      -0.301019   0.022027   \n",
       "GarageCars     ...    0.217700     0.208721      -0.155433   0.035687   \n",
       "GarageArea     ...    0.217531     0.233700      -0.138594   0.036839   \n",
       "WoodDeckSF     ...    1.000000     0.058926      -0.119399  -0.038879   \n",
       "OpenPorchSF    ...    0.058926     1.000000      -0.089990  -0.017660   \n",
       "EnclosedPorch  ...   -0.119399    -0.089990       1.000000  -0.034200   \n",
       "3SsnPorch      ...   -0.038879    -0.017660      -0.034200   1.000000   \n",
       "ScreenPorch    ...   -0.090634     0.038010      -0.081334  -0.028819   \n",
       "PoolArea       ...    0.034127    -0.000670      -0.019507  -0.005785   \n",
       "MiscVal        ...   -0.019550    -0.014654      -0.004027   0.003472   \n",
       "MoSold         ...    0.021098     0.075193      -0.023195   0.024316   \n",
       "YrSold         ...    0.031735    -0.035930      -0.011758   0.036582   \n",
       "SalePrice      ...    0.306315     0.335182      -0.143057   0.037773   \n",
       "\n",
       "               ScreenPorch  PoolArea   MiscVal    MoSold    YrSold  SalePrice  \n",
       "Id                0.002379  0.049858 -0.021183  0.022811 -0.002155  -0.012094  \n",
       "MSSubClass       -0.023454 -0.004365 -0.022269 -0.006957 -0.014393  -0.086246  \n",
       "LotFrontage       0.058117  0.081716  0.006888  0.021690  0.011965   0.417641  \n",
       "LotArea           0.103347  0.061822  0.043920  0.004972 -0.032994   0.430210  \n",
       "OverallQual       0.064719  0.043281 -0.021861  0.075959 -0.020221   0.808768  \n",
       "OverallCond       0.050175 -0.001940  0.086281 -0.013630  0.032644  -0.107142  \n",
       "YearBuilt        -0.033820  0.016560 -0.041105  0.018570 -0.009368   0.566838  \n",
       "YearRemodAdd     -0.036582  0.007900 -0.005452  0.023434  0.044845   0.532573  \n",
       "MasVnrArea        0.074400 -0.009673 -0.026842  0.006980  0.002123   0.454627  \n",
       "BsmtFinSF1        0.081819  0.072826  0.004129  0.008072  0.018410   0.386986  \n",
       "BsmtFinSF2        0.072049  0.060037 -0.006330 -0.017878  0.039056  -0.025884  \n",
       "BsmtUnfSF        -0.017738 -0.039006 -0.029728  0.038403 -0.035792   0.241971  \n",
       "TotalBsmtSF       0.092022  0.055251 -0.030266  0.043314 -0.005278   0.652439  \n",
       "1stFlrSF          0.093942  0.059712 -0.029656  0.044571 -0.006917   0.632954  \n",
       "2ndFlrSF          0.025898  0.059593 -0.006952  0.043465 -0.015537   0.295925  \n",
       "LowQualFinSF     -0.030637 -0.006150 -0.001258 -0.007096 -0.007606  -0.068871  \n",
       "GrLivArea         0.089855  0.096178 -0.028294  0.070669 -0.019479   0.724565  \n",
       "BsmtFullBath      0.029814  0.061983 -0.015786 -0.021835  0.069951   0.216955  \n",
       "BsmtHalfBath      0.031005 -0.012652 -0.007285  0.050415 -0.046841  -0.035226  \n",
       "FullBath         -0.016071  0.037513 -0.026287  0.054298 -0.007185   0.578268  \n",
       "HalfBath          0.059473  0.039575 -0.038018 -0.012055  0.003314   0.284875  \n",
       "BedroomAbvGr      0.030938  0.055571 -0.008814  0.048530 -0.029311   0.170796  \n",
       "KitchenAbvGr     -0.050587 -0.011348  0.014933  0.030374  0.038431  -0.140776  \n",
       "TotRmsAbvGrd      0.044334  0.053371 -0.013848  0.042766 -0.024292   0.533753  \n",
       "Fireplaces        0.190540  0.075877 -0.005469  0.048543 -0.019904   0.463807  \n",
       "GarageYrBlt      -0.073839  0.004703 -0.036804  0.012475  0.007591   0.523625  \n",
       "GarageCars        0.038675  0.017341 -0.053035  0.040272 -0.028625   0.655813  \n",
       "GarageArea        0.043321  0.021416 -0.040365  0.041696 -0.017220   0.648032  \n",
       "WoodDeckSF       -0.090634  0.034127 -0.019550  0.021098  0.031735   0.306315  \n",
       "OpenPorchSF       0.038010 -0.000670 -0.014654  0.075193 -0.035930   0.335182  \n",
       "EnclosedPorch    -0.081334 -0.019507 -0.004027 -0.023195 -0.011758  -0.143057  \n",
       "3SsnPorch        -0.028819 -0.005785  0.003472  0.024316  0.036582   0.037773  \n",
       "ScreenPorch       1.000000  0.083874  0.042783  0.022224  0.019053   0.103414  \n",
       "PoolArea          0.083874  1.000000  0.048442 -0.020234 -0.043654   0.108751  \n",
       "MiscVal           0.042783  0.048442  1.000000 -0.016795  0.013545  -0.024032  \n",
       "MoSold            0.022224 -0.020234 -0.016795  1.000000 -0.151823   0.064444  \n",
       "YrSold            0.019053 -0.043654  0.013545 -0.151823  1.000000  -0.014115  \n",
       "SalePrice         0.103414  0.108751 -0.024032  0.064444 -0.014115   1.000000  \n",
       "\n",
       "[38 rows x 38 columns]"
      ]
     },
     "execution_count": 30,
     "metadata": {},
     "output_type": "execute_result"
    }
   ],
   "source": [
    "housing_data_sub.corr()"
   ]
  },
  {
   "cell_type": "code",
   "execution_count": 31,
   "metadata": {},
   "outputs": [
    {
     "data": {
      "text/plain": [
       "<matplotlib.axes._subplots.AxesSubplot at 0x200951f4e08>"
      ]
     },
     "execution_count": 31,
     "metadata": {},
     "output_type": "execute_result"
    },
    {
     "data": {
      "image/png": "[encoded data removed]",
      "text/plain": [
       "<Figure size 432x288 with 2 Axes>"
      ]
     },
     "metadata": {
      "needs_background": "light"
     },
     "output_type": "display_data"
    }
   ],
   "source": [
    "## Correlation Map\n",
    "sns.heatmap(housing_data_sub.corr())"
   ]
  },
  {
   "cell_type": "code",
   "execution_count": 32,
   "metadata": {},
   "outputs": [
    {
     "data": {
      "text/plain": [
       "<matplotlib.axes._subplots.AxesSubplot at 0x20096305988>"
      ]
     },
     "execution_count": 32,
     "metadata": {},
     "output_type": "execute_result"
    },
    {
     "data": {
      "image/png": "[encoded data removed]",
      "text/plain": [
       "<Figure size 432x288 with 2 Axes>"
      ]
     },
     "metadata": {
      "needs_background": "light"
     },
     "output_type": "display_data"
    }
   ],
   "source": [
    "sns.heatmap(housing_data_sub.corr(),linewidths=0.1)"
   ]
  },
  {
   "cell_type": "markdown",
   "metadata": {},
   "source": [
    "## Plotting multiple graphs\n",
    "\n",
    "### Q: Analyze the relationship between SalesPrice and all \"Square Feet (SF)\" related columns\n"
   ]
  },
  {
   "cell_type": "code",
   "execution_count": 33,
   "metadata": {},
   "outputs": [
    {
     "name": "stdout",
     "output_type": "stream",
     "text": [
      "['BsmtFinSF1', 'BsmtFinSF2', 'BsmtUnfSF', 'TotalBsmtSF', '1stFlrSF', '2ndFlrSF', 'LowQualFinSF', 'WoodDeckSF', 'OpenPorchSF']\n"
     ]
    }
   ],
   "source": [
    "### finds all columns which have SF (sqaure feet) in the name\n",
    "sf_cols = [col_name for col_name in housing_data.columns if \"SF\" in col_name]\n",
    "print(sf_cols)"
   ]
  },
  {
   "cell_type": "code",
   "execution_count": 34,
   "metadata": {},
   "outputs": [
    {
     "data": {
      "text/plain": [
       "9"
      ]
     },
     "execution_count": 34,
     "metadata": {},
     "output_type": "execute_result"
    }
   ],
   "source": [
    "#Number of SF Columns\n",
    "len(sf_cols)"
   ]
  },
  {
   "cell_type": "code",
   "execution_count": 35,
   "metadata": {},
   "outputs": [
    {
     "data": {
      "image/png": "[encoded data removed]",
      "text/plain": [
       "<Figure size 720x720 with 9 Axes>"
      ]
     },
     "metadata": {
      "needs_background": "light"
     },
     "output_type": "display_data"
    }
   ],
   "source": [
    "fig, axs = plt.pyplot.subplots(nrows = 3,ncols = 3, figsize = (10,10))\n",
    "for i in range(0, len(sf_cols)):\n",
    "    rows = i // 3\n",
    "    cols = i % 3\n",
    "    ax = axs[rows, cols]\n",
    "    plot = sns.regplot(x = sf_cols[i], y = \"SalePrice\", data = housing_data, ax=ax)"
   ]
  },
  {
   "cell_type": "code",
   "execution_count": 36,
   "metadata": {},
   "outputs": [
    {
     "data": {
      "text/plain": [
       "[Text(0, 0, 'VinylSd'),\n",
       " Text(0, 0, 'MetalSd'),\n",
       " Text(0, 0, 'Wd Sdng'),\n",
       " Text(0, 0, 'HdBoard'),\n",
       " Text(0, 0, 'BrkFace'),\n",
       " Text(0, 0, 'WdShing'),\n",
       " Text(0, 0, 'CemntBd'),\n",
       " Text(0, 0, 'Plywood'),\n",
       " Text(0, 0, 'AsbShng'),\n",
       " Text(0, 0, 'Stucco'),\n",
       " Text(0, 0, 'BrkComm'),\n",
       " Text(0, 0, 'AsphShn'),\n",
       " Text(0, 0, 'Stone'),\n",
       " Text(0, 0, 'ImStucc'),\n",
       " Text(0, 0, 'CBlock')]"
      ]
     },
     "execution_count": 36,
     "metadata": {},
     "output_type": "execute_result"
    },
    {
     "data": {
      "image/png": "[encoded data removed]",
      "text/plain": [
       "<Figure size 720x720 with 1 Axes>"
      ]
     },
     "metadata": {
      "needs_background": "light"
     },
     "output_type": "display_data"
    }
   ],
   "source": [
    "fig, axs = plt.pyplot.subplots(figsize = (10,10))\n",
    "plot = sns.boxplot(x = \"Exterior1st\", y = \"SalePrice\", data = housing_data, ax=axs);\n",
    "plot.set_xticklabels(plot.get_xticklabels(),rotation=90)"
   ]
  },
  {
   "cell_type": "markdown",
   "metadata": {},
   "source": [
    "### Q1. Rather than plotting the relationship between all the different types of Exterior, do the following:\n",
    "\n",
    "a) Create a new column - \"Exterior_New\" with only the top 3 values of Exterior in it. All other values are converted to \"Others\""
   ]
  },
  {
   "cell_type": "code",
   "execution_count": 37,
   "metadata": {},
   "outputs": [],
   "source": [
    "top_3_exteriors=housing_data.Exterior1st.value_counts().head(3)"
   ]
  },
  {
   "cell_type": "code",
   "execution_count": 38,
   "metadata": {},
   "outputs": [
    {
     "data": {
      "text/plain": [
       "VinylSd    515\n",
       "HdBoard    222\n",
       "MetalSd    220\n",
       "Name: Exterior1st, dtype: int64"
      ]
     },
     "execution_count": 38,
     "metadata": {},
     "output_type": "execute_result"
    }
   ],
   "source": [
    "top_3_exteriors"
   ]
  },
  {
   "cell_type": "code",
   "execution_count": 39,
   "metadata": {},
   "outputs": [],
   "source": [
    "top_3_exteriors = list(top_3_exteriors.index)"
   ]
  },
  {
   "cell_type": "code",
   "execution_count": 40,
   "metadata": {},
   "outputs": [
    {
     "data": {
      "text/plain": [
       "['VinylSd', 'HdBoard', 'MetalSd']"
      ]
     },
     "execution_count": 40,
     "metadata": {},
     "output_type": "execute_result"
    }
   ],
   "source": [
    "top_3_exteriors"
   ]
  },
  {
   "cell_type": "code",
   "execution_count": 41,
   "metadata": {},
   "outputs": [],
   "source": [
    "housing_data[\"Exterior_new\"] = np.where(housing_data[\"Exterior1st\"].isin(top_3_exteriors),housing_data.Exterior1st,\"Others\")"
   ]
  },
  {
   "cell_type": "code",
   "execution_count": 42,
   "metadata": {},
   "outputs": [
    {
     "data": {
      "text/plain": [
       "VinylSd    515\n",
       "Others     503\n",
       "HdBoard    222\n",
       "MetalSd    220\n",
       "Name: Exterior_new, dtype: int64"
      ]
     },
     "execution_count": 42,
     "metadata": {},
     "output_type": "execute_result"
    }
   ],
   "source": [
    "housing_data.Exterior_new.value_counts()"
   ]
  },
  {
   "cell_type": "markdown",
   "metadata": {},
   "source": [
    "b) Plot the relationship between Sales price and this new columns"
   ]
  },
  {
   "cell_type": "code",
   "execution_count": 43,
   "metadata": {},
   "outputs": [
    {
     "data": {
      "image/png": "[encoded data removed]",
      "text/plain": [
       "<Figure size 432x288 with 1 Axes>"
      ]
     },
     "metadata": {
      "needs_background": "light"
     },
     "output_type": "display_data"
    }
   ],
   "source": [
    "plot = sns.boxplot(housing_data.Exterior_new,housing_data.SalePrice);\n",
    "plot.set_xticklabels(plot.get_xticklabels(), rotation=40);"
   ]
  },
  {
   "cell_type": "markdown",
   "metadata": {},
   "source": [
    "#### Q2: Does the relationship between House exterior and Price change depending on how old the house is. For this question simply categorize houses into Old and New based on the condition: YearBuilt > 2000 \"New\" else \"Old\""
   ]
  },
  {
   "cell_type": "code",
   "execution_count": 44,
   "metadata": {},
   "outputs": [],
   "source": [
    "housing_data[\"new_house\"] = np.where(housing_data[\"YearBuilt\"] > 2000,\"New\",\"Old\")"
   ]
  },
  {
   "cell_type": "code",
   "execution_count": 45,
   "metadata": {},
   "outputs": [
    {
     "data": {
      "text/plain": [
       "Old    1096\n",
       "New     364\n",
       "Name: new_house, dtype: int64"
      ]
     },
     "execution_count": 45,
     "metadata": {},
     "output_type": "execute_result"
    }
   ],
   "source": [
    "housing_data[\"new_house\"].value_counts()"
   ]
  },
  {
   "cell_type": "code",
   "execution_count": 46,
   "metadata": {},
   "outputs": [
    {
     "data": {
      "text/plain": [
       "<matplotlib.axes._subplots.AxesSubplot at 0x20096b184c8>"
      ]
     },
     "execution_count": 46,
     "metadata": {},
     "output_type": "execute_result"
    },
    {
     "data": {
      "image/png": "[encoded data removed]",
      "text/plain": [
       "<Figure size 432x288 with 1 Axes>"
      ]
     },
     "metadata": {
      "needs_background": "light"
     },
     "output_type": "display_data"
    }
   ],
   "source": [
    "sns.boxplot(housing_data.SalePrice,housing_data.new_house)"
   ]
  },
  {
   "cell_type": "code",
   "execution_count": 47,
   "metadata": {},
   "outputs": [
    {
     "data": {
      "text/html": [
       "<div>\n",
       "<style scoped>\n",
       "    .dataframe tbody tr th:only-of-type {\n",
       "        vertical-align: middle;\n",
       "    }\n",
       "\n",
       "    .dataframe tbody tr th {\n",
       "        vertical-align: top;\n",
       "    }\n",
       "\n",
       "    .dataframe thead tr th {\n",
       "        text-align: left;\n",
       "    }\n",
       "\n",
       "    .dataframe thead tr:last-of-type th {\n",
       "        text-align: right;\n",
       "    }\n",
       "</style>\n",
       "<table border=\"1\" class=\"dataframe\">\n",
       "  <thead>\n",
       "    <tr>\n",
       "      <th></th>\n",
       "      <th></th>\n",
       "      <th colspan=\"2\" halign=\"left\">SalePrice</th>\n",
       "    </tr>\n",
       "    <tr>\n",
       "      <th></th>\n",
       "      <th></th>\n",
       "      <th>count</th>\n",
       "      <th>median</th>\n",
       "    </tr>\n",
       "    <tr>\n",
       "      <th>Exterior_new</th>\n",
       "      <th>new_house</th>\n",
       "      <th></th>\n",
       "      <th></th>\n",
       "    </tr>\n",
       "  </thead>\n",
       "  <tbody>\n",
       "    <tr>\n",
       "      <td rowspan=\"2\" valign=\"top\">HdBoard</td>\n",
       "      <td>New</td>\n",
       "      <td>1</td>\n",
       "      <td>198500.0</td>\n",
       "    </tr>\n",
       "    <tr>\n",
       "      <td>Old</td>\n",
       "      <td>221</td>\n",
       "      <td>149900.0</td>\n",
       "    </tr>\n",
       "    <tr>\n",
       "      <td rowspan=\"2\" valign=\"top\">MetalSd</td>\n",
       "      <td>New</td>\n",
       "      <td>19</td>\n",
       "      <td>222000.0</td>\n",
       "    </tr>\n",
       "    <tr>\n",
       "      <td>Old</td>\n",
       "      <td>201</td>\n",
       "      <td>135000.0</td>\n",
       "    </tr>\n",
       "    <tr>\n",
       "      <td rowspan=\"2\" valign=\"top\">Others</td>\n",
       "      <td>New</td>\n",
       "      <td>35</td>\n",
       "      <td>303477.0</td>\n",
       "    </tr>\n",
       "    <tr>\n",
       "      <td>Old</td>\n",
       "      <td>468</td>\n",
       "      <td>142976.5</td>\n",
       "    </tr>\n",
       "    <tr>\n",
       "      <td rowspan=\"2\" valign=\"top\">VinylSd</td>\n",
       "      <td>New</td>\n",
       "      <td>309</td>\n",
       "      <td>219500.0</td>\n",
       "    </tr>\n",
       "    <tr>\n",
       "      <td>Old</td>\n",
       "      <td>206</td>\n",
       "      <td>167075.0</td>\n",
       "    </tr>\n",
       "  </tbody>\n",
       "</table>\n",
       "</div>"
      ],
      "text/plain": [
       "                       SalePrice          \n",
       "                           count    median\n",
       "Exterior_new new_house                    \n",
       "HdBoard      New               1  198500.0\n",
       "             Old             221  149900.0\n",
       "MetalSd      New              19  222000.0\n",
       "             Old             201  135000.0\n",
       "Others       New              35  303477.0\n",
       "             Old             468  142976.5\n",
       "VinylSd      New             309  219500.0\n",
       "             Old             206  167075.0"
      ]
     },
     "execution_count": 47,
     "metadata": {},
     "output_type": "execute_result"
    }
   ],
   "source": [
    "housing_data.groupby([\"Exterior_new\",\"new_house\"]).agg({\"SalePrice\":[\"count\", \"median\"]})"
   ]
  },
  {
   "cell_type": "markdown",
   "metadata": {},
   "source": [
    "#### Has the type of exterior changed for newer homes compared to older houses "
   ]
  },
  {
   "cell_type": "code",
   "execution_count": 48,
   "metadata": {},
   "outputs": [
    {
     "data": {
      "image/png": "[encoded data removed]",
      "text/plain": [
       "<Figure size 432x288 with 1 Axes>"
      ]
     },
     "metadata": {
      "needs_background": "light"
     },
     "output_type": "display_data"
    }
   ],
   "source": [
    "sns.countplot(housing_data.new_house, hue = housing_data.Exterior1st);"
   ]
  },
  {
   "cell_type": "code",
   "execution_count": null,
   "metadata": {},
   "outputs": [],
   "source": []
  }
 ],
 "metadata": {
  "kernelspec": {
   "display_name": "Python 3",
   "language": "python",
   "name": "python3"
  },
  "language_info": {
   "codemirror_mode": {
    "name": "ipython",
    "version": 3
   },
   "file_extension": ".py",
   "mimetype": "text/x-python",
   "name": "python",
   "nbconvert_exporter": "python",
   "pygments_lexer": "ipython3",
   "version": "3.7.4"
  }
 },
 "nbformat": 4,
 "nbformat_minor": 2
}
